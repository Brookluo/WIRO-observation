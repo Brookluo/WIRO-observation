{
 "cells": [
  {
   "cell_type": "code",
   "execution_count": 4,
   "id": "6820caf9-da5d-4a18-afa4-f4b9f79aee05",
   "metadata": {},
   "outputs": [],
   "source": [
    "import numpy as np\n",
    "import matplotlib.pyplot as plt\n",
    "import astropy\n",
    "import fitsio"
   ]
  },
  {
   "cell_type": "code",
   "execution_count": 5,
   "id": "39725f81-d6fe-443b-9ac5-f886617e6491",
   "metadata": {},
   "outputs": [],
   "source": [
    "import astropy.units as u\n",
    "from astropy.table import Table, vstack"
   ]
  },
  {
   "cell_type": "code",
   "execution_count": 6,
   "id": "e73fcd1d-c3d9-4cfe-94de-704e786c7053",
   "metadata": {},
   "outputs": [],
   "source": [
    "from astropy.wcs import WCS"
   ]
  },
  {
   "cell_type": "code",
   "execution_count": 7,
   "id": "5d729e46-8bb7-4949-96e1-e303e08c7f77",
   "metadata": {},
   "outputs": [],
   "source": [
    "from astropy.coordinates import SkyCoord, search_around_sky"
   ]
  },
  {
   "cell_type": "code",
   "execution_count": 8,
   "id": "9bf0e190-1703-46ed-a68b-1aee211ec306",
   "metadata": {},
   "outputs": [],
   "source": [
    "import sys\n",
    "sys.path.append(\"../src/\")\n",
    "from plot_utils import plot_zscale_image, show_imstat\n",
    "from crossmatch import find_sweep_with_ra_dec, convert_flux_to_mag"
   ]
  },
  {
   "cell_type": "code",
   "execution_count": 17,
   "id": "424d74f3-6170-487f-8c87-37e44a37af5d",
   "metadata": {},
   "outputs": [],
   "source": [
    "from pathlib import Path\n",
    "\n",
    "wiro_dir = Path(\"/global/cfs/cdirs/desi/users/adamyers/wiro\")\n",
    "reduced_dir = wiro_dir / \"reduced\"\n",
    "# astrometric_dir = Path(\"/global/cscratch1/sd/brookluo/astrometry\")\n",
    "astrometric_dir = wiro_dir / \"solved-wcs\"\n",
    "\n",
    "imdata_1031 = reduced_dir / \"20221031\"\n",
    "wcs_1031 = astrometric_dir / \"20221031\"\n",
    "imdata_1028 = reduced_dir / \"20221028\"\n",
    "wcs_1028 = astrometric_dir / \"20221028\"\n",
    "imdata_1030 = reduced_dir / \"20221030\"\n",
    "wcs_1030 = astrometric_dir / \"20221030\"\n",
    "\n",
    "wcs_coadd = astrometric_dir  / \"coadd-images\"\n",
    "imdata_coadd = reduced_dir / \"coadd-images\""
   ]
  },
  {
   "cell_type": "code",
   "execution_count": 221,
   "id": "536e5e9f-f967-4707-811f-63ad873da5ba",
   "metadata": {},
   "outputs": [],
   "source": [
    "fn_coadd = \"g-5-XMM-combined\"\n",
    "imwcs = WCS(str(wcs_coadd / f\"{fn_coadd}.new\"))"
   ]
  },
  {
   "cell_type": "code",
   "execution_count": 222,
   "id": "a9dfd7f2-3cc5-4d1b-ada5-b44b00120e5c",
   "metadata": {},
   "outputs": [],
   "source": [
    "source = fitsio.read(wcs_coadd / (fn_coadd + \".axy\"))"
   ]
  },
  {
   "cell_type": "code",
   "execution_count": 223,
   "id": "7cfb10f0-d034-4651-9c91-6bc14da289f3",
   "metadata": {},
   "outputs": [],
   "source": [
    "sources_coord = imwcs.pixel_to_world(source[\"X_IMAGE\"], source[\"Y_IMAGE\"])"
   ]
  },
  {
   "cell_type": "code",
   "execution_count": 224,
   "id": "aeaaed9c-54df-44bc-bf42-cfe8cca3f0ba",
   "metadata": {},
   "outputs": [],
   "source": [
    "radec_tab = sources_coord.to_table()\n",
    "newtab = Table([radec_tab[\"ra\"].value, radec_tab[\"dec\"].value], names=[\"RA\", \"DEC\"])"
   ]
  },
  {
   "cell_type": "code",
   "execution_count": 225,
   "id": "9c129dd1-4846-4b98-b81b-528d4c741715",
   "metadata": {},
   "outputs": [],
   "source": [
    "# matching with Gaia\n",
    "# from desitarget import gaiamatch, geomask\n",
    "\n",
    "# import os\n",
    "\n",
    "# gaia_dir = \"/global/cfs/cdirs/desi/target/gaia_dr3\"\n",
    "# os.environ[\"GAIA_DIR\"] = gaia_dir\n",
    "\n",
    "# matched_sources = gaiamatch.match_gaia_to_primary(newtab, matchrad=3, retaingaia=False, dr=\"dr3\")\n",
    "\n",
    "# pick_good = matched_sources[\"REF_ID\"] > 0\n",
    "\n",
    "# matched_sources.dtype\n",
    "\n",
    "# matched_sources[\"GAIA_PHOT_G_MEAN_MAG\"]"
   ]
  },
  {
   "cell_type": "code",
   "execution_count": 226,
   "id": "bcd946ad-3dcc-45da-a1b2-ccddce746245",
   "metadata": {},
   "outputs": [],
   "source": [
    "sweeps = set()\n",
    "for coord in sources_coord:\n",
    "    sweeps.add(find_sweep_with_ra_dec(coord.ra.to(u.deg).value, coord.dec.to(u.deg).value))\n",
    "# sweeps = list(sweeps)"
   ]
  },
  {
   "cell_type": "code",
   "execution_count": 227,
   "id": "8fd67519-6024-4c90-a1e1-ff021440807f",
   "metadata": {},
   "outputs": [],
   "source": [
    "ls_ds9_dir = Path(\"/global/cfs/cdirs/cosmo/data/legacysurvey/dr9/south/sweep/9.0\")"
   ]
  },
  {
   "cell_type": "code",
   "execution_count": 228,
   "id": "f25700c1-e60a-4551-89f4-13a147275f28",
   "metadata": {},
   "outputs": [
    {
     "name": "stderr",
     "output_type": "stream",
     "text": [
      "WARNING: UnitsWarning: '1/deg^2' did not parse as fits unit: Numeric factor not supported by FITS If this is meant to be a custom unit, define it with 'u.def_unit'. To have it recognized inside a file reader or other code, enable it with 'u.add_enabled_units'. For details, see https://docs.astropy.org/en/latest/units/combining_and_defining.html [astropy.units.core]\n",
      "WARNING: UnitsWarning: 'nanomaggy' did not parse as fits unit: At col 0, Unit 'nanomaggy' not supported by the FITS standard.  If this is meant to be a custom unit, define it with 'u.def_unit'. To have it recognized inside a file reader or other code, enable it with 'u.add_enabled_units'. For details, see https://docs.astropy.org/en/latest/units/combining_and_defining.html [astropy.units.core]\n",
      "WARNING: UnitsWarning: '1/nanomaggy^2' did not parse as fits unit: Numeric factor not supported by FITS If this is meant to be a custom unit, define it with 'u.def_unit'. To have it recognized inside a file reader or other code, enable it with 'u.add_enabled_units'. For details, see https://docs.astropy.org/en/latest/units/combining_and_defining.html [astropy.units.core]\n",
      "WARNING: UnitsWarning: '1/arcsec^2' did not parse as fits unit: Numeric factor not supported by FITS If this is meant to be a custom unit, define it with 'u.def_unit'. To have it recognized inside a file reader or other code, enable it with 'u.add_enabled_units'. For details, see https://docs.astropy.org/en/latest/units/combining_and_defining.html [astropy.units.core]\n",
      "WARNING: UnitsWarning: '1/mas^2' did not parse as fits unit: Numeric factor not supported by FITS If this is meant to be a custom unit, define it with 'u.def_unit'. To have it recognized inside a file reader or other code, enable it with 'u.add_enabled_units'. For details, see https://docs.astropy.org/en/latest/units/combining_and_defining.html [astropy.units.core]\n",
      "WARNING: UnitsWarning: '1/(mas/yr)^2' did not parse as fits unit: Numeric factor not supported by FITS If this is meant to be a custom unit, define it with 'u.def_unit'. To have it recognized inside a file reader or other code, enable it with 'u.add_enabled_units'. For details, see https://docs.astropy.org/en/latest/units/combining_and_defining.html [astropy.units.core]\n"
     ]
    }
   ],
   "source": [
    "tab = Table()\n",
    "for file in sweeps:\n",
    "    tab = vstack([tab, Table.read(ls_ds9_dir/file)])"
   ]
  },
  {
   "cell_type": "code",
   "execution_count": 229,
   "id": "e3278da1-3568-424d-98f5-bd7974cc04da",
   "metadata": {},
   "outputs": [],
   "source": [
    "sweep_radec = SkyCoord(ra=tab[\"RA\"], dec=tab[\"DEC\"])"
   ]
  },
  {
   "cell_type": "code",
   "execution_count": 269,
   "id": "a663dc19-d036-4e98-a1ab-5386b013f39f",
   "metadata": {},
   "outputs": [],
   "source": [
    "pick_psf = tab[\"TYPE\"] == \"PSF\""
   ]
  },
  {
   "cell_type": "code",
   "execution_count": 270,
   "id": "7bb2247e-3c06-4dd7-b775-e2c1307697be",
   "metadata": {},
   "outputs": [],
   "source": [
    "idx_sweep, idx_sources, *others = sources_coord.search_around_sky(sweep_radec[pick_psf], seplimit=4*u.arcsec)"
   ]
  },
  {
   "cell_type": "code",
   "execution_count": 280,
   "id": "d384ce91-f901-4ff0-942b-9c19a6ef035a",
   "metadata": {},
   "outputs": [
    {
     "name": "stderr",
     "output_type": "stream",
     "text": [
      "/global/u1/b/brookluo/WIRO-observation/notebooks/../src/crossmatch.py:14: RuntimeWarning: invalid value encountered in log10\n",
      "  m = 22.5 - 2.5 * np.log10(flux)\n",
      "/global/u1/b/brookluo/WIRO-observation/notebooks/../src/crossmatch.py:14: RuntimeWarning: divide by zero encountered in log10\n",
      "  m = 22.5 - 2.5 * np.log10(flux)\n"
     ]
    },
    {
     "name": "stdout",
     "output_type": "stream",
     "text": [
      "31.392761\n"
     ]
    }
   ],
   "source": [
    "flux_ext_cor = tab[pick_psf][idx_sweep][\"FLUX_G\"] / tab[pick_psf][idx_sweep][\"MW_TRANSMISSION_G\"]\n",
    "match_g_mag = convert_flux_to_mag(flux_ext_cor)\n",
    "all_g_mag = convert_flux_to_mag(tab[\"FLUX_G\"] / tab[\"MW_TRANSMISSION_G\"])\n",
    "print(max(match_g_mag))\n",
    "idx_max_g_mag = np.argmax(match_g_mag)"
   ]
  },
  {
   "cell_type": "code",
   "execution_count": 281,
   "id": "afa264cf-1e40-4c58-be5d-93d877ec07bd",
   "metadata": {},
   "outputs": [],
   "source": [
    "upper_bound = 28\n",
    "pick_mag = match_g_mag >= upper_bound"
   ]
  },
  {
   "cell_type": "code",
   "execution_count": 282,
   "id": "dc3b516d-3e8c-43f4-9db3-cb78666c0325",
   "metadata": {},
   "outputs": [],
   "source": [
    "matched_tab_image_coord = imwcs.world_to_pixel(sweep_radec[idx_sweep[pick_mag]])"
   ]
  },
  {
   "cell_type": "code",
   "execution_count": 283,
   "id": "5eef969f-e735-418f-a0bd-953c02189f5c",
   "metadata": {},
   "outputs": [],
   "source": [
    "imdata = fitsio.read(imdata_coadd / (fn_coadd+\".fits\"))"
   ]
  },
  {
   "cell_type": "code",
   "execution_count": 284,
   "id": "04396f1e-cabe-4408-b362-b45755cf7bd2",
   "metadata": {},
   "outputs": [],
   "source": [
    "# fig, ax = plt.subplots(1, 1, figsize=(12, 10))\n",
    "# vmin, vmax = plot_zscale_image(imdata, ax, cmap=\"gray\")\n",
    "# ax.scatter(source[\"X_IMAGE\"][idx_sources[pick_mag]],\n",
    "#            source[\"Y_IMAGE\"][idx_sources[pick_mag]], \n",
    "#            s=100,\n",
    "#            facecolors='none', edgecolors='r', label=\"WIRO\")\n",
    "# ax.scatter(matched_tab_image_coord[0], matched_tab_image_coord[1], s=100,\n",
    "#             facecolors='none', edgecolors='b', label=\"LS DS9\")\n",
    "# ax.scatter(source[\"X_IMAGE\"][idx_sources[idx_max_g_mag]],\n",
    "#            source[\"Y_IMAGE\"][idx_sources[idx_max_g_mag]], \n",
    "#            s=150, marker='x', label=\"max G mag\")\n",
    "# plt.legend()\n",
    "# plt.title(f\"{fn_coadd}, max G mag: {max(g_mag):.3f}, G band mag > {upper_bound}, num of sources: {len(np.unique(idx_sweep[pick_mag])):d}\")\n",
    "# plt.savefig(f\"depth_{fn_coadd}.pdf\")"
   ]
  },
  {
   "cell_type": "code",
   "execution_count": 285,
   "id": "ecfd47e9-7baf-4294-9ac4-fdc8286c64dd",
   "metadata": {},
   "outputs": [
    {
     "name": "stderr",
     "output_type": "stream",
     "text": [
      "/global/homes/b/brookluo/.conda/envs/py39/lib/python3.9/site-packages/numpy/core/fromnumeric.py:758: UserWarning: Warning: 'partition' will ignore the 'mask' of the MaskedColumn.\n",
      "  a.partition(kth, axis=axis, kind=kind, order=order)\n"
     ]
    },
    {
     "data": {
      "image/png": "[encoded data removed]",
      "text/plain": [
       "<Figure size 640x480 with 1 Axes>"
      ]
     },
     "metadata": {},
     "output_type": "display_data"
    }
   ],
   "source": [
    "counts, bins, _ = plt.hist(match_g_mag, bins=np.arange(12, 30, 1))\n",
    "plt.xlabel(\"G magnitude\")\n",
    "plt.ylabel(\"Numbers\")\n",
    "plt.xticks(np.arange(12, 30, 1))\n",
    "plt.title(f\"{fn_coadd}, mean : {np.mean(match_g_mag):.3f}, med: {np.median(match_g_mag):.3f}, std: {np.std(match_g_mag):.3f}\")\n",
    "plt.savefig(f\"{fn_coadd}-match-LS-DS9.png\")"
   ]
  },
  {
   "cell_type": "code",
   "execution_count": 286,
   "id": "f6b8c147-f169-4253-91e8-d1617b921cbb",
   "metadata": {},
   "outputs": [],
   "source": [
    "pick_radec = sweep_radec.contained_by(imwcs)"
   ]
  },
  {
   "cell_type": "code",
   "execution_count": 287,
   "id": "530b5e22-e549-48d5-8aa2-a1454f85edcf",
   "metadata": {},
   "outputs": [],
   "source": [
    "counts, bins = np.histogram(match_g_mag, bins=np.arange(12, 30, 1))\n",
    "all_counts, _ = np.histogram(all_g_mag[pick_radec & pick_psf], bins=bins)"
   ]
  },
  {
   "cell_type": "code",
   "execution_count": 288,
   "id": "ded8f204-c6a7-4886-b64d-e5d83144246e",
   "metadata": {},
   "outputs": [
    {
     "data": {
      "text/plain": [
       "array([0.5625    , 0.6875    , 0.62068966, 0.60869565, 0.63235294,\n",
       "       0.65060241, 0.60330579, 0.63690476, 0.64401294, 0.64900662,\n",
       "       0.41036717, 0.25054308, 0.08957576, 0.07583537, 0.09326425,\n",
       "       0.08587258, 0.05454545])"
      ]
     },
     "execution_count": 288,
     "metadata": {},
     "output_type": "execute_result"
    }
   ],
   "source": [
    "counts / all_counts"
   ]
  },
  {
   "cell_type": "code",
   "execution_count": 289,
   "id": "fcfed353-0666-4c2e-b367-0ba2e85c3fcb",
   "metadata": {},
   "outputs": [
    {
     "name": "stderr",
     "output_type": "stream",
     "text": [
      "/global/homes/b/brookluo/.conda/envs/py39/lib/python3.9/site-packages/numpy/core/fromnumeric.py:758: UserWarning: Warning: 'partition' will ignore the 'mask' of the MaskedColumn.\n",
      "  a.partition(kth, axis=axis, kind=kind, order=order)\n"
     ]
    },
    {
     "data": {
      "image/png": "[encoded data removed]",
      "text/plain": [
       "<Figure size 640x480 with 2 Axes>"
      ]
     },
     "metadata": {},
     "output_type": "display_data"
    }
   ],
   "source": [
    "fig, ax1 = plt.subplots()\n",
    "ax1.hist(match_g_mag, bins=bins)\n",
    "\n",
    "ax2 = ax1.twinx()  # instantiate a second axes that shares the same x-axis\n",
    "color = 'tab:blue'\n",
    "ax2.set_ylabel('fraction WIRO/DS9', color='r')  # we already handled the x-label with ax1\n",
    "ax2.plot(bins[:-1], counts / all_counts, color='r')\n",
    "ax2.tick_params(axis='y', labelcolor='r')\n",
    "ax1.set_xlabel(\"G magnitude\")\n",
    "ax1.set_ylabel(\"Numbers\")\n",
    "plt.xticks(np.arange(12, 30, 1))\n",
    "plt.title(f\"{fn_coadd}, mean : {np.mean(match_g_mag):.3f}, med: {np.median(match_g_mag):.3f}, std: {np.std(match_g_mag):.3f}\")\n",
    "fig.tight_layout()  # otherwise the right y-label is slightly clipped\n",
    "# plt.show()\n",
    "plt.savefig(f\"psf_fraction_{fn_coadd}-match-LS-DS9.png\")"
   ]
  },
  {
   "cell_type": "code",
   "execution_count": 295,
   "id": "1a1682d3-f8de-4b1f-b76f-dd340e2d2dc3",
   "metadata": {},
   "outputs": [
    {
     "data": {
      "text/plain": [
       "array([(2126.5513, 2614.7144  , -22.942858 , 1.5036380e+09),\n",
       "       ( 372.9722, 1800.6254  , -21.809547 , 5.2944282e+08),\n",
       "       (2809.7312,   62.077877, -20.938578 , 2.3737269e+08), ...,\n",
       "       (1365.6005, 3840.1533  ,  -7.4078608, 9.1863770e+02),\n",
       "       (1189.8007, 2975.374   ,  -7.376805 , 8.9273389e+02),\n",
       "       ( 783.0001, 2959.51    ,  -7.365154 , 8.8320508e+02)],\n",
       "      dtype=[('X_IMAGE', '>f4'), ('Y_IMAGE', '>f4'), ('MAG_AUTO', '>f4'), ('FLUX_AUTO', '>f4')])"
      ]
     },
     "execution_count": 295,
     "metadata": {},
     "output_type": "execute_result"
    }
   ],
   "source": [
    "source"
   ]
  },
  {
   "cell_type": "code",
   "execution_count": 296,
   "id": "c4eb972b-e058-4eb0-a6fe-1a30e33f34ad",
   "metadata": {},
   "outputs": [
    {
     "data": {
      "text/plain": [
       "<SkyCoord (FK5: equinox=2000.0): (ra, dec) in deg\n",
       "    [(34.62222016, -4.86959729), (34.90270517, -4.99936582),\n",
       "     (34.51259343, -5.27674898), ..., (34.74368245, -4.67459312),\n",
       "     (34.77192986, -4.81219807), (34.83694122, -4.81474302)]>"
      ]
     },
     "execution_count": 296,
     "metadata": {},
     "output_type": "execute_result"
    }
   ],
   "source": [
    "sources_coord"
   ]
  },
  {
   "cell_type": "code",
   "execution_count": 320,
   "id": "756cc291-a0d4-4aa7-96a5-41fb76a8d3d0",
   "metadata": {},
   "outputs": [],
   "source": [
    "from astropy.table import join, hstack"
   ]
  },
  {
   "cell_type": "code",
   "execution_count": 324,
   "id": "094a8777-aa7a-4673-8fbd-936bb29e2631",
   "metadata": {},
   "outputs": [],
   "source": [
    "gtab = Table([sources_coord.ra, sources_coord.dec], names=[\"RA\", \"DEC\"])\n",
    "gtab = hstack([gtab, Table(source)])"
   ]
  },
  {
   "cell_type": "code",
   "execution_count": 326,
   "id": "add8ab6f-1f8d-4347-9936-8b8bb7cbaeb2",
   "metadata": {},
   "outputs": [],
   "source": [
    "gtab.write(wcs_coadd / \"g-5-XMM-combined-sources.fits\")"
   ]
  },
  {
   "cell_type": "code",
   "execution_count": 327,
   "id": "eae0c6c7-a3ad-45c1-9ce4-f87b33f12bf0",
   "metadata": {},
   "outputs": [
    {
     "data": {
      "text/html": [
       "<div><i>Table length=8812</i>\n",
       "<table id=\"table23454898607776\" class=\"table-striped table-bordered table-condensed\">\n",
       "<thead><tr><th>RA</th><th>DEC</th><th>X_IMAGE</th><th>Y_IMAGE</th><th>MAG_AUTO</th><th>FLUX_AUTO</th></tr></thead>\n",
       "<thead><tr><th>deg</th><th>deg</th><th></th><th></th><th></th><th></th></tr></thead>\n",
       "<thead><tr><th>float64</th><th>float64</th><th>float32</th><th>float32</th><th>float32</th><th>float32</th></tr></thead>\n",
       "<tr><td>34.62222015507523</td><td>-4.86959728504458</td><td>2126.5513</td><td>2614.7144</td><td>-22.942858</td><td>1503638000.0</td></tr>\n",
       "<tr><td>34.90270517273842</td><td>-4.999365822721793</td><td>372.9722</td><td>1800.6254</td><td>-21.809547</td><td>529442800.0</td></tr>\n",
       "<tr><td>34.51259343425153</td><td>-5.276748977639419</td><td>2809.7312</td><td>62.077877</td><td>-20.938578</td><td>237372690.0</td></tr>\n",
       "<tr><td>34.6375007720575</td><td>-4.600405023826925</td><td>2029.9025</td><td>4306.5864</td><td>-20.771832</td><td>203578700.0</td></tr>\n",
       "<tr><td>34.852832814787824</td><td>-5.147863244247015</td><td>685.40765</td><td>869.4239</td><td>-20.042082</td><td>103951976.0</td></tr>\n",
       "<tr><td>34.94992958599756</td><td>-4.73421154793779</td><td>74.860596</td><td>3465.844</td><td>-19.77736</td><td>81460050.0</td></tr>\n",
       "<tr><td>34.48696220430957</td><td>-5.132449015839215</td><td>2970.9934</td><td>965.92816</td><td>-19.19563</td><td>47670684.0</td></tr>\n",
       "<tr><td>34.405934541680736</td><td>-4.872436702751545</td><td>3478.952</td><td>2596.8745</td><td>-19.005768</td><td>40022784.0</td></tr>\n",
       "<tr><td>34.44833499472438</td><td>-4.5931861258716795</td><td>3214.242</td><td>4351.837</td><td>-18.081078</td><td>17077756.0</td></tr>\n",
       "<tr><td>...</td><td>...</td><td>...</td><td>...</td><td>...</td><td>...</td></tr>\n",
       "<tr><td>34.883580078875745</td><td>-4.695375012674233</td><td>489.84662</td><td>3709.8066</td><td>-7.603777</td><td>1100.2993</td></tr>\n",
       "<tr><td>34.81792549351996</td><td>-4.726409010416073</td><td>901.2466</td><td>3514.545</td><td>-7.5559664</td><td>1052.8984</td></tr>\n",
       "<tr><td>34.95580216347378</td><td>-4.630223680368996</td><td>36.62048</td><td>4119.768</td><td>-7.525291</td><td>1023.5674</td></tr>\n",
       "<tr><td>34.95544068441758</td><td>-4.6204028833534245</td><td>38.735973</td><td>4181.549</td><td>-7.4871097</td><td>988.19775</td></tr>\n",
       "<tr><td>34.74217506698748</td><td>-4.669526955393241</td><td>1374.9966</td><td>3872.007</td><td>-7.4698462</td><td>972.6094</td></tr>\n",
       "<tr><td>34.82937145376866</td><td>-4.817083484750848</td><td>830.3901</td><td>2944.7922</td><td>-7.44581</td><td>951.31396</td></tr>\n",
       "<tr><td>34.844847423876516</td><td>-4.694719863297049</td><td>732.3731</td><td>3713.8252</td><td>-7.4447007</td><td>950.3428</td></tr>\n",
       "<tr><td>34.7436824456229</td><td>-4.674593116688363</td><td>1365.6005</td><td>3840.1533</td><td>-7.4078608</td><td>918.6377</td></tr>\n",
       "<tr><td>34.771929856619444</td><td>-4.812198069145767</td><td>1189.8007</td><td>2975.374</td><td>-7.376805</td><td>892.7339</td></tr>\n",
       "<tr><td>34.836941218599115</td><td>-4.814743022865653</td><td>783.0001</td><td>2959.51</td><td>-7.365154</td><td>883.2051</td></tr>\n",
       "</table></div>"
      ],
      "text/plain": [
       "<Table length=8812>\n",
       "        RA                 DEC          X_IMAGE  ...  MAG_AUTO   FLUX_AUTO  \n",
       "       deg                 deg                   ...                        \n",
       "     float64             float64        float32  ...  float32     float32   \n",
       "------------------ ------------------- --------- ... ---------- ------------\n",
       " 34.62222015507523   -4.86959728504458 2126.5513 ... -22.942858 1503638000.0\n",
       " 34.90270517273842  -4.999365822721793  372.9722 ... -21.809547  529442800.0\n",
       " 34.51259343425153  -5.276748977639419 2809.7312 ... -20.938578  237372690.0\n",
       "  34.6375007720575  -4.600405023826925 2029.9025 ... -20.771832  203578700.0\n",
       "34.852832814787824  -5.147863244247015 685.40765 ... -20.042082  103951976.0\n",
       " 34.94992958599756   -4.73421154793779 74.860596 ...  -19.77736   81460050.0\n",
       " 34.48696220430957  -5.132449015839215 2970.9934 ...  -19.19563   47670684.0\n",
       "34.405934541680736  -4.872436702751545  3478.952 ... -19.005768   40022784.0\n",
       " 34.44833499472438 -4.5931861258716795  3214.242 ... -18.081078   17077756.0\n",
       "               ...                 ...       ... ...        ...          ...\n",
       "34.883580078875745  -4.695375012674233 489.84662 ...  -7.603777    1100.2993\n",
       " 34.81792549351996  -4.726409010416073  901.2466 ... -7.5559664    1052.8984\n",
       " 34.95580216347378  -4.630223680368996  36.62048 ...  -7.525291    1023.5674\n",
       " 34.95544068441758 -4.6204028833534245 38.735973 ... -7.4871097    988.19775\n",
       " 34.74217506698748  -4.669526955393241 1374.9966 ... -7.4698462     972.6094\n",
       " 34.82937145376866  -4.817083484750848  830.3901 ...   -7.44581    951.31396\n",
       "34.844847423876516  -4.694719863297049  732.3731 ... -7.4447007     950.3428\n",
       "  34.7436824456229  -4.674593116688363 1365.6005 ... -7.4078608     918.6377\n",
       "34.771929856619444  -4.812198069145767 1189.8007 ...  -7.376805     892.7339\n",
       "34.836941218599115  -4.814743022865653  783.0001 ...  -7.365154     883.2051"
      ]
     },
     "execution_count": 327,
     "metadata": {},
     "output_type": "execute_result"
    }
   ],
   "source": [
    "Table.read(wcs_coadd / \"g-5-XMM-combined-sources.fits\")"
   ]
  },
  {
   "cell_type": "code",
   "execution_count": null,
   "id": "0fa688ae-5a23-477d-b93f-312bdbc87f43",
   "metadata": {},
   "outputs": [],
   "source": []
  }
 ],
 "metadata": {
  "kernelspec": {
   "display_name": "py39",
   "language": "python",
   "name": "py39"
  },
  "language_info": {
   "codemirror_mode": {
    "name": "ipython",
    "version": 3
   },
   "file_extension": ".py",
   "mimetype": "text/x-python",
   "name": "python",
   "nbconvert_exporter": "python",
   "pygments_lexer": "ipython3",
   "version": "3.9.13"
  }
 },
 "nbformat": 4,
 "nbformat_minor": 5
}
