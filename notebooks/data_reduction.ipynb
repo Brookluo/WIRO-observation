{
 "cells": [
  {
   "cell_type": "code",
   "execution_count": 2,
   "metadata": {},
   "outputs": [],
   "source": [
    "import astropy\n",
    "from astropy.table import Table\n",
    "from astropy.io import fits\n",
    "import matplotlib.pyplot as plt\n",
    "import photutils\n",
    "import sys\n",
    "sys.path.append(\"../src/\")\n",
    "from utils import show_imstat, plot_line, plot_zscale_image, overscan_subs_trim\n",
    "\n",
    "import numpy as np\n",
    "\n",
    "from astropy.visualization import ZScaleInterval\n",
    "from astropy import stats as astrostats\n",
    "\n",
    "import scipy\n",
    "import scipy.stats as scistats"
   ]
  },
  {
   "cell_type": "markdown",
   "metadata": {},
   "source": [
    "# Check Bias"
   ]
  },
  {
   "cell_type": "code",
   "execution_count": null,
   "metadata": {},
   "outputs": [],
   "source": []
  }
 ],
 "metadata": {
  "kernelspec": {
   "display_name": "Python 3.9.12 ('py39')",
   "language": "python",
   "name": "python3"
  },
  "language_info": {
   "codemirror_mode": {
    "name": "ipython",
    "version": 3
   },
   "file_extension": ".py",
   "mimetype": "text/x-python",
   "name": "python",
   "nbconvert_exporter": "python",
   "pygments_lexer": "ipython3",
   "version": "3.9.12"
  },
  "orig_nbformat": 4,
  "vscode": {
   "interpreter": {
    "hash": "84faba2c3d73f72195a31da7dbd07f0b601f44c80958afd4e19c4d66e3eef367"
   }
  }
 },
 "nbformat": 4,
 "nbformat_minor": 2
}
