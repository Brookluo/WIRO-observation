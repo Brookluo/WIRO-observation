{
 "cells": [
  {
   "cell_type": "code",
   "execution_count": 1,
   "metadata": {},
   "outputs": [],
   "source": [
    "import astropy\n",
    "import astropy.units as u\n",
    "import numpy as np\n",
    "from astropy.coordinates import AltAz, EarthLocation, SkyCoord\n",
    "from astropy.table import Table\n",
    "from astropy.time import Time\n",
    "import sys\n",
    "sys.path.append(\"../src/\")\n",
    "from plan_obs import output_minsecz_in_month"
   ]
  },
  {
   "cell_type": "code",
   "execution_count": 2,
   "metadata": {},
   "outputs": [],
   "source": [
    "import matplotlib.pyplot as plt"
   ]
  },
  {
   "cell_type": "code",
   "execution_count": 3,
   "metadata": {},
   "outputs": [],
   "source": [
    "sky_wiro = SkyCoord(\"-105d58m33s +41d5m49s\", unit=(u.deg, u.deg))\n",
    "WIRO = EarthLocation(lat=sky_wiro.dec, lon=sky_wiro.ra, height=2943*u.m)"
   ]
  },
  {
   "cell_type": "code",
   "execution_count": 4,
   "metadata": {},
   "outputs": [],
   "source": [
    "XMM = SkyCoord(ra=36.448*u.deg, dec=-4.601*u.deg)"
   ]
  },
  {
   "cell_type": "code",
   "execution_count": 5,
   "metadata": {},
   "outputs": [
    {
     "data": {
      "text/html": [
       "<div>\n",
       "<style scoped>\n",
       "    .dataframe tbody tr th:only-of-type {\n",
       "        vertical-align: middle;\n",
       "    }\n",
       "\n",
       "    .dataframe tbody tr th {\n",
       "        vertical-align: top;\n",
       "    }\n",
       "\n",
       "    .dataframe thead th {\n",
       "        text-align: right;\n",
       "    }\n",
       "</style>\n",
       "<table border=\"1\" class=\"dataframe\">\n",
       "  <thead>\n",
       "    <tr style=\"text-align: right;\">\n",
       "      <th></th>\n",
       "      <th>Date</th>\n",
       "      <th>Object Coordinates (hms.ss degree)</th>\n",
       "      <th>RA(o)</th>\n",
       "      <th>Dec(o)</th>\n",
       "      <th>Airmass</th>\n",
       "    </tr>\n",
       "  </thead>\n",
       "  <tbody>\n",
       "    <tr>\n",
       "      <th>0</th>\n",
       "      <td>2022-10-01T00:00:00.000</td>\n",
       "      <td>&lt;SkyCoord (ICRS): (ra, dec) in deg\\n    (36.44...</td>\n",
       "      <td>36.448</td>\n",
       "      <td>-4.601</td>\n",
       "      <td>1.629868</td>\n",
       "    </tr>\n",
       "    <tr>\n",
       "      <th>1</th>\n",
       "      <td>2022-10-02T00:00:00.000</td>\n",
       "      <td>&lt;SkyCoord (ICRS): (ra, dec) in deg\\n    (36.44...</td>\n",
       "      <td>36.448</td>\n",
       "      <td>-4.601</td>\n",
       "      <td>1.614314</td>\n",
       "    </tr>\n",
       "    <tr>\n",
       "      <th>2</th>\n",
       "      <td>2022-10-03T00:00:00.000</td>\n",
       "      <td>&lt;SkyCoord (ICRS): (ra, dec) in deg\\n    (36.44...</td>\n",
       "      <td>36.448</td>\n",
       "      <td>-4.601</td>\n",
       "      <td>1.599562</td>\n",
       "    </tr>\n",
       "    <tr>\n",
       "      <th>3</th>\n",
       "      <td>2022-10-04T00:00:00.000</td>\n",
       "      <td>&lt;SkyCoord (ICRS): (ra, dec) in deg\\n    (36.44...</td>\n",
       "      <td>36.448</td>\n",
       "      <td>-4.601</td>\n",
       "      <td>1.585580</td>\n",
       "    </tr>\n",
       "    <tr>\n",
       "      <th>4</th>\n",
       "      <td>2022-10-05T00:00:00.000</td>\n",
       "      <td>&lt;SkyCoord (ICRS): (ra, dec) in deg\\n    (36.44...</td>\n",
       "      <td>36.448</td>\n",
       "      <td>-4.601</td>\n",
       "      <td>1.572339</td>\n",
       "    </tr>\n",
       "    <tr>\n",
       "      <th>5</th>\n",
       "      <td>2022-10-06T00:00:00.000</td>\n",
       "      <td>&lt;SkyCoord (ICRS): (ra, dec) in deg\\n    (36.44...</td>\n",
       "      <td>36.448</td>\n",
       "      <td>-4.601</td>\n",
       "      <td>1.559813</td>\n",
       "    </tr>\n",
       "    <tr>\n",
       "      <th>6</th>\n",
       "      <td>2022-10-07T00:00:00.000</td>\n",
       "      <td>&lt;SkyCoord (ICRS): (ra, dec) in deg\\n    (36.44...</td>\n",
       "      <td>36.448</td>\n",
       "      <td>-4.601</td>\n",
       "      <td>1.547976</td>\n",
       "    </tr>\n",
       "    <tr>\n",
       "      <th>7</th>\n",
       "      <td>2022-10-08T00:00:00.000</td>\n",
       "      <td>&lt;SkyCoord (ICRS): (ra, dec) in deg\\n    (36.44...</td>\n",
       "      <td>36.448</td>\n",
       "      <td>-4.601</td>\n",
       "      <td>1.536804</td>\n",
       "    </tr>\n",
       "    <tr>\n",
       "      <th>8</th>\n",
       "      <td>2022-10-09T00:00:00.000</td>\n",
       "      <td>&lt;SkyCoord (ICRS): (ra, dec) in deg\\n    (36.44...</td>\n",
       "      <td>36.448</td>\n",
       "      <td>-4.601</td>\n",
       "      <td>1.526277</td>\n",
       "    </tr>\n",
       "    <tr>\n",
       "      <th>9</th>\n",
       "      <td>2022-10-10T00:00:00.000</td>\n",
       "      <td>&lt;SkyCoord (ICRS): (ra, dec) in deg\\n    (36.44...</td>\n",
       "      <td>36.448</td>\n",
       "      <td>-4.601</td>\n",
       "      <td>1.516374</td>\n",
       "    </tr>\n",
       "    <tr>\n",
       "      <th>10</th>\n",
       "      <td>2022-10-11T00:00:00.000</td>\n",
       "      <td>&lt;SkyCoord (ICRS): (ra, dec) in deg\\n    (36.44...</td>\n",
       "      <td>36.448</td>\n",
       "      <td>-4.601</td>\n",
       "      <td>1.507076</td>\n",
       "    </tr>\n",
       "    <tr>\n",
       "      <th>11</th>\n",
       "      <td>2022-10-12T00:00:00.000</td>\n",
       "      <td>&lt;SkyCoord (ICRS): (ra, dec) in deg\\n    (36.44...</td>\n",
       "      <td>36.448</td>\n",
       "      <td>-4.601</td>\n",
       "      <td>1.498366</td>\n",
       "    </tr>\n",
       "    <tr>\n",
       "      <th>12</th>\n",
       "      <td>2022-10-13T00:00:00.000</td>\n",
       "      <td>&lt;SkyCoord (ICRS): (ra, dec) in deg\\n    (36.44...</td>\n",
       "      <td>36.448</td>\n",
       "      <td>-4.601</td>\n",
       "      <td>1.490228</td>\n",
       "    </tr>\n",
       "    <tr>\n",
       "      <th>13</th>\n",
       "      <td>2022-10-14T00:00:00.000</td>\n",
       "      <td>&lt;SkyCoord (ICRS): (ra, dec) in deg\\n    (36.44...</td>\n",
       "      <td>36.448</td>\n",
       "      <td>-4.601</td>\n",
       "      <td>1.482648</td>\n",
       "    </tr>\n",
       "    <tr>\n",
       "      <th>14</th>\n",
       "      <td>2022-10-15T00:00:00.000</td>\n",
       "      <td>&lt;SkyCoord (ICRS): (ra, dec) in deg\\n    (36.44...</td>\n",
       "      <td>36.448</td>\n",
       "      <td>-4.601</td>\n",
       "      <td>1.475612</td>\n",
       "    </tr>\n",
       "    <tr>\n",
       "      <th>15</th>\n",
       "      <td>2022-10-16T00:00:00.000</td>\n",
       "      <td>&lt;SkyCoord (ICRS): (ra, dec) in deg\\n    (36.44...</td>\n",
       "      <td>36.448</td>\n",
       "      <td>-4.601</td>\n",
       "      <td>1.469109</td>\n",
       "    </tr>\n",
       "    <tr>\n",
       "      <th>16</th>\n",
       "      <td>2022-10-17T00:00:00.000</td>\n",
       "      <td>&lt;SkyCoord (ICRS): (ra, dec) in deg\\n    (36.44...</td>\n",
       "      <td>36.448</td>\n",
       "      <td>-4.601</td>\n",
       "      <td>1.463125</td>\n",
       "    </tr>\n",
       "    <tr>\n",
       "      <th>17</th>\n",
       "      <td>2022-10-18T00:00:00.000</td>\n",
       "      <td>&lt;SkyCoord (ICRS): (ra, dec) in deg\\n    (36.44...</td>\n",
       "      <td>36.448</td>\n",
       "      <td>-4.601</td>\n",
       "      <td>1.457653</td>\n",
       "    </tr>\n",
       "    <tr>\n",
       "      <th>18</th>\n",
       "      <td>2022-10-19T00:00:00.000</td>\n",
       "      <td>&lt;SkyCoord (ICRS): (ra, dec) in deg\\n    (36.44...</td>\n",
       "      <td>36.448</td>\n",
       "      <td>-4.601</td>\n",
       "      <td>1.452681</td>\n",
       "    </tr>\n",
       "    <tr>\n",
       "      <th>19</th>\n",
       "      <td>2022-10-20T00:00:00.000</td>\n",
       "      <td>&lt;SkyCoord (ICRS): (ra, dec) in deg\\n    (36.44...</td>\n",
       "      <td>36.448</td>\n",
       "      <td>-4.601</td>\n",
       "      <td>1.448203</td>\n",
       "    </tr>\n",
       "    <tr>\n",
       "      <th>20</th>\n",
       "      <td>2022-10-21T00:00:00.000</td>\n",
       "      <td>&lt;SkyCoord (ICRS): (ra, dec) in deg\\n    (36.44...</td>\n",
       "      <td>36.448</td>\n",
       "      <td>-4.601</td>\n",
       "      <td>1.444210</td>\n",
       "    </tr>\n",
       "    <tr>\n",
       "      <th>21</th>\n",
       "      <td>2022-10-22T00:00:00.000</td>\n",
       "      <td>&lt;SkyCoord (ICRS): (ra, dec) in deg\\n    (36.44...</td>\n",
       "      <td>36.448</td>\n",
       "      <td>-4.601</td>\n",
       "      <td>1.440696</td>\n",
       "    </tr>\n",
       "    <tr>\n",
       "      <th>22</th>\n",
       "      <td>2022-10-23T00:00:00.000</td>\n",
       "      <td>&lt;SkyCoord (ICRS): (ra, dec) in deg\\n    (36.44...</td>\n",
       "      <td>36.448</td>\n",
       "      <td>-4.601</td>\n",
       "      <td>1.437655</td>\n",
       "    </tr>\n",
       "    <tr>\n",
       "      <th>23</th>\n",
       "      <td>2022-10-24T00:00:00.000</td>\n",
       "      <td>&lt;SkyCoord (ICRS): (ra, dec) in deg\\n    (36.44...</td>\n",
       "      <td>36.448</td>\n",
       "      <td>-4.601</td>\n",
       "      <td>1.435082</td>\n",
       "    </tr>\n",
       "    <tr>\n",
       "      <th>24</th>\n",
       "      <td>2022-10-25T00:00:00.000</td>\n",
       "      <td>&lt;SkyCoord (ICRS): (ra, dec) in deg\\n    (36.44...</td>\n",
       "      <td>36.448</td>\n",
       "      <td>-4.601</td>\n",
       "      <td>1.432972</td>\n",
       "    </tr>\n",
       "    <tr>\n",
       "      <th>25</th>\n",
       "      <td>2022-10-26T00:00:00.000</td>\n",
       "      <td>&lt;SkyCoord (ICRS): (ra, dec) in deg\\n    (36.44...</td>\n",
       "      <td>36.448</td>\n",
       "      <td>-4.601</td>\n",
       "      <td>1.431323</td>\n",
       "    </tr>\n",
       "    <tr>\n",
       "      <th>26</th>\n",
       "      <td>2022-10-27T00:00:00.000</td>\n",
       "      <td>&lt;SkyCoord (ICRS): (ra, dec) in deg\\n    (36.44...</td>\n",
       "      <td>36.448</td>\n",
       "      <td>-4.601</td>\n",
       "      <td>1.430132</td>\n",
       "    </tr>\n",
       "    <tr>\n",
       "      <th>27</th>\n",
       "      <td>2022-10-28T00:00:00.000</td>\n",
       "      <td>&lt;SkyCoord (ICRS): (ra, dec) in deg\\n    (36.44...</td>\n",
       "      <td>36.448</td>\n",
       "      <td>-4.601</td>\n",
       "      <td>1.429396</td>\n",
       "    </tr>\n",
       "    <tr>\n",
       "      <th>28</th>\n",
       "      <td>2022-10-29T00:00:00.000</td>\n",
       "      <td>&lt;SkyCoord (ICRS): (ra, dec) in deg\\n    (36.44...</td>\n",
       "      <td>36.448</td>\n",
       "      <td>-4.601</td>\n",
       "      <td>1.429115</td>\n",
       "    </tr>\n",
       "    <tr>\n",
       "      <th>29</th>\n",
       "      <td>2022-10-30T00:00:00.000</td>\n",
       "      <td>&lt;SkyCoord (ICRS): (ra, dec) in deg\\n    (36.44...</td>\n",
       "      <td>36.448</td>\n",
       "      <td>-4.601</td>\n",
       "      <td>1.429288</td>\n",
       "    </tr>\n",
       "    <tr>\n",
       "      <th>30</th>\n",
       "      <td>2022-10-31T00:00:00.000</td>\n",
       "      <td>&lt;SkyCoord (ICRS): (ra, dec) in deg\\n    (36.44...</td>\n",
       "      <td>36.448</td>\n",
       "      <td>-4.601</td>\n",
       "      <td>1.429914</td>\n",
       "    </tr>\n",
       "  </tbody>\n",
       "</table>\n",
       "</div>"
      ],
      "text/plain": [
       "                       Date  \\\n",
       "0   2022-10-01T00:00:00.000   \n",
       "1   2022-10-02T00:00:00.000   \n",
       "2   2022-10-03T00:00:00.000   \n",
       "3   2022-10-04T00:00:00.000   \n",
       "4   2022-10-05T00:00:00.000   \n",
       "5   2022-10-06T00:00:00.000   \n",
       "6   2022-10-07T00:00:00.000   \n",
       "7   2022-10-08T00:00:00.000   \n",
       "8   2022-10-09T00:00:00.000   \n",
       "9   2022-10-10T00:00:00.000   \n",
       "10  2022-10-11T00:00:00.000   \n",
       "11  2022-10-12T00:00:00.000   \n",
       "12  2022-10-13T00:00:00.000   \n",
       "13  2022-10-14T00:00:00.000   \n",
       "14  2022-10-15T00:00:00.000   \n",
       "15  2022-10-16T00:00:00.000   \n",
       "16  2022-10-17T00:00:00.000   \n",
       "17  2022-10-18T00:00:00.000   \n",
       "18  2022-10-19T00:00:00.000   \n",
       "19  2022-10-20T00:00:00.000   \n",
       "20  2022-10-21T00:00:00.000   \n",
       "21  2022-10-22T00:00:00.000   \n",
       "22  2022-10-23T00:00:00.000   \n",
       "23  2022-10-24T00:00:00.000   \n",
       "24  2022-10-25T00:00:00.000   \n",
       "25  2022-10-26T00:00:00.000   \n",
       "26  2022-10-27T00:00:00.000   \n",
       "27  2022-10-28T00:00:00.000   \n",
       "28  2022-10-29T00:00:00.000   \n",
       "29  2022-10-30T00:00:00.000   \n",
       "30  2022-10-31T00:00:00.000   \n",
       "\n",
       "                   Object Coordinates (hms.ss degree)   RA(o)  Dec(o)  \\\n",
       "0   <SkyCoord (ICRS): (ra, dec) in deg\\n    (36.44...  36.448  -4.601   \n",
       "1   <SkyCoord (ICRS): (ra, dec) in deg\\n    (36.44...  36.448  -4.601   \n",
       "2   <SkyCoord (ICRS): (ra, dec) in deg\\n    (36.44...  36.448  -4.601   \n",
       "3   <SkyCoord (ICRS): (ra, dec) in deg\\n    (36.44...  36.448  -4.601   \n",
       "4   <SkyCoord (ICRS): (ra, dec) in deg\\n    (36.44...  36.448  -4.601   \n",
       "5   <SkyCoord (ICRS): (ra, dec) in deg\\n    (36.44...  36.448  -4.601   \n",
       "6   <SkyCoord (ICRS): (ra, dec) in deg\\n    (36.44...  36.448  -4.601   \n",
       "7   <SkyCoord (ICRS): (ra, dec) in deg\\n    (36.44...  36.448  -4.601   \n",
       "8   <SkyCoord (ICRS): (ra, dec) in deg\\n    (36.44...  36.448  -4.601   \n",
       "9   <SkyCoord (ICRS): (ra, dec) in deg\\n    (36.44...  36.448  -4.601   \n",
       "10  <SkyCoord (ICRS): (ra, dec) in deg\\n    (36.44...  36.448  -4.601   \n",
       "11  <SkyCoord (ICRS): (ra, dec) in deg\\n    (36.44...  36.448  -4.601   \n",
       "12  <SkyCoord (ICRS): (ra, dec) in deg\\n    (36.44...  36.448  -4.601   \n",
       "13  <SkyCoord (ICRS): (ra, dec) in deg\\n    (36.44...  36.448  -4.601   \n",
       "14  <SkyCoord (ICRS): (ra, dec) in deg\\n    (36.44...  36.448  -4.601   \n",
       "15  <SkyCoord (ICRS): (ra, dec) in deg\\n    (36.44...  36.448  -4.601   \n",
       "16  <SkyCoord (ICRS): (ra, dec) in deg\\n    (36.44...  36.448  -4.601   \n",
       "17  <SkyCoord (ICRS): (ra, dec) in deg\\n    (36.44...  36.448  -4.601   \n",
       "18  <SkyCoord (ICRS): (ra, dec) in deg\\n    (36.44...  36.448  -4.601   \n",
       "19  <SkyCoord (ICRS): (ra, dec) in deg\\n    (36.44...  36.448  -4.601   \n",
       "20  <SkyCoord (ICRS): (ra, dec) in deg\\n    (36.44...  36.448  -4.601   \n",
       "21  <SkyCoord (ICRS): (ra, dec) in deg\\n    (36.44...  36.448  -4.601   \n",
       "22  <SkyCoord (ICRS): (ra, dec) in deg\\n    (36.44...  36.448  -4.601   \n",
       "23  <SkyCoord (ICRS): (ra, dec) in deg\\n    (36.44...  36.448  -4.601   \n",
       "24  <SkyCoord (ICRS): (ra, dec) in deg\\n    (36.44...  36.448  -4.601   \n",
       "25  <SkyCoord (ICRS): (ra, dec) in deg\\n    (36.44...  36.448  -4.601   \n",
       "26  <SkyCoord (ICRS): (ra, dec) in deg\\n    (36.44...  36.448  -4.601   \n",
       "27  <SkyCoord (ICRS): (ra, dec) in deg\\n    (36.44...  36.448  -4.601   \n",
       "28  <SkyCoord (ICRS): (ra, dec) in deg\\n    (36.44...  36.448  -4.601   \n",
       "29  <SkyCoord (ICRS): (ra, dec) in deg\\n    (36.44...  36.448  -4.601   \n",
       "30  <SkyCoord (ICRS): (ra, dec) in deg\\n    (36.44...  36.448  -4.601   \n",
       "\n",
       "     Airmass  \n",
       "0   1.629868  \n",
       "1   1.614314  \n",
       "2   1.599562  \n",
       "3   1.585580  \n",
       "4   1.572339  \n",
       "5   1.559813  \n",
       "6   1.547976  \n",
       "7   1.536804  \n",
       "8   1.526277  \n",
       "9   1.516374  \n",
       "10  1.507076  \n",
       "11  1.498366  \n",
       "12  1.490228  \n",
       "13  1.482648  \n",
       "14  1.475612  \n",
       "15  1.469109  \n",
       "16  1.463125  \n",
       "17  1.457653  \n",
       "18  1.452681  \n",
       "19  1.448203  \n",
       "20  1.444210  \n",
       "21  1.440696  \n",
       "22  1.437655  \n",
       "23  1.435082  \n",
       "24  1.432972  \n",
       "25  1.431323  \n",
       "26  1.430132  \n",
       "27  1.429396  \n",
       "28  1.429115  \n",
       "29  1.429288  \n",
       "30  1.429914  "
      ]
     },
     "execution_count": 5,
     "metadata": {},
     "output_type": "execute_result"
    }
   ],
   "source": [
    "output_minsecz_in_month(10, 2022, WIRO, XMM)"
   ]
  },
  {
   "cell_type": "code",
   "execution_count": 6,
   "metadata": {},
   "outputs": [],
   "source": [
    "import astroplan\n",
    "from astroplan.constraints import AtNightConstraint, AirmassConstraint, MoonIlluminationConstraint, AltitudeConstraint"
   ]
  },
  {
   "cell_type": "code",
   "execution_count": 7,
   "metadata": {},
   "outputs": [],
   "source": [
    "from astroplan import Observer\n",
    "from astroplan import is_observable, is_always_observable, months_observable"
   ]
  },
  {
   "cell_type": "code",
   "execution_count": 8,
   "metadata": {},
   "outputs": [],
   "source": [
    "WIRO_obs = Observer(location=WIRO, name=\"WIRO\")"
   ]
  },
  {
   "cell_type": "code",
   "execution_count": 9,
   "metadata": {},
   "outputs": [],
   "source": [
    "global_constraints = [AltitudeConstraint(10*u.deg, 70*u.deg),\n",
    "                      AirmassConstraint(max = 2.5, boolean_constraint = False),\n",
    "                      AtNightConstraint.twilight_civil(),\n",
    "                      MoonIlluminationConstraint(max=0.3)]"
   ]
  },
  {
   "cell_type": "code",
   "execution_count": 10,
   "metadata": {},
   "outputs": [
    {
     "name": "stdout",
     "output_type": "stream",
     "text": [
      "[{1, 2, 3, 7, 8, 9, 10, 11, 12}]\n"
     ]
    }
   ],
   "source": [
    "best_months = months_observable(global_constraints, WIRO_obs, [XMM])\n",
    "print(best_months)"
   ]
  },
  {
   "cell_type": "code",
   "execution_count": 11,
   "metadata": {},
   "outputs": [],
   "source": [
    "from astroplan import observability_table, Schedule\n",
    "from astroplan.scheduling import Transitioner, SequentialScheduler, PriorityScheduler"
   ]
  },
  {
   "cell_type": "code",
   "execution_count": 12,
   "metadata": {},
   "outputs": [
    {
     "name": "stdout",
     "output_type": "stream",
     "text": [
      "1 target name ever observable always observable fraction of time observable\n",
      "----------- --------------- ----------------- ---------------------------\n",
      "       icrs            True             False         0.10972222222222222\n",
      "2 target name ever observable always observable fraction of time observable\n",
      "----------- --------------- ----------------- ---------------------------\n",
      "       icrs            True             False         0.05478395061728395\n",
      "3 target name ever observable always observable fraction of time observable\n",
      "----------- --------------- ----------------- ---------------------------\n",
      "       icrs            True             False        0.010416666666666666\n",
      "4 target name ever observable always observable fraction of time observable\n",
      "----------- --------------- ----------------- ---------------------------\n",
      "       icrs           False             False                         0.0\n",
      "5 target name ever observable always observable fraction of time observable\n",
      "----------- --------------- ----------------- ---------------------------\n",
      "       icrs           False             False                         0.0\n",
      "6 target name ever observable always observable fraction of time observable\n",
      "----------- --------------- ----------------- ---------------------------\n",
      "       icrs           False             False                         0.0\n",
      "7 target name ever observable always observable fraction of time observable\n",
      "----------- --------------- ----------------- ---------------------------\n",
      "       icrs            True             False        0.021527777777777778\n",
      "8 target name ever observable always observable fraction of time observable\n",
      "----------- --------------- ----------------- ---------------------------\n",
      "       icrs            True             False         0.09305555555555556\n",
      "9 target name ever observable always observable fraction of time observable\n",
      "----------- --------------- ----------------- ---------------------------\n",
      "       icrs            True             False         0.14655172413793102\n",
      "10 target name ever observable always observable fraction of time observable\n",
      "----------- --------------- ----------------- ---------------------------\n",
      "       icrs            True             False         0.16527777777777777\n",
      "11 target name ever observable always observable fraction of time observable\n",
      "----------- --------------- ----------------- ---------------------------\n",
      "       icrs            True             False         0.14942528735632185\n",
      "12 target name ever observable always observable fraction of time observable\n",
      "----------- --------------- ----------------- ---------------------------\n",
      "       icrs            True             False          0.1451388888888889\n"
     ]
    }
   ],
   "source": [
    "for i in range(1, 13):\n",
    "    try:\n",
    "        time_range = Time([f\"2022-{i:02}-01\", f\"2022-{i:02}-31\"])\n",
    "    except ValueError:\n",
    "        if i == 2:\n",
    "            time_range = Time([f\"2022-{i:02}-01\", f\"2022-{i:02}-28\"])\n",
    "        else:\n",
    "            time_range = Time([f\"2022-{i:02}-01\", f\"2022-{i:02}-30\"])\n",
    "    obs_table = observability_table(global_constraints, WIRO_obs, [XMM], time_range=time_range)\n",
    "    print(i, obs_table)"
   ]
  },
  {
   "cell_type": "code",
   "execution_count": 13,
   "metadata": {},
   "outputs": [],
   "source": [
    "date_obs_frac = {}\n",
    "for i in range(9, 13):\n",
    "    date_obs_frac[i] = []\n",
    "    initial_day = Time(f\"2022-{i:02}-01 12:00\", scale=\"utc\")\n",
    "    cur_day = initial_day + 1 * u.day\n",
    "    while initial_day.ymdhms[\"month\"] == i:\n",
    "        time_range = Time([initial_day, cur_day])\n",
    "        obs_table = observability_table(global_constraints, WIRO_obs, [XMM], time_range=time_range, time_grid_resolution=5*u.minute)\n",
    "        date_obs_frac[i].append((initial_day.ymdhms[\"day\"], obs_table[\"fraction of time observable\"][0]))\n",
    "        initial_day = cur_day\n",
    "        cur_day += 1 * u.day"
   ]
  },
  {
   "cell_type": "code",
   "execution_count": 14,
   "metadata": {},
   "outputs": [
    {
     "data": {
      "image/png": "[encoded data removed]",
      "text/plain": [
       "<Figure size 1440x720 with 1 Axes>"
      ]
     },
     "metadata": {
      "needs_background": "light"
     },
     "output_type": "display_data"
    }
   ],
   "source": [
    "plt.figure(figsize=(20, 10))\n",
    "shape = [\".\", \"x\", \"*\", \"^\"]\n",
    "i = 0\n",
    "padding = 0\n",
    "for mon, frac in date_obs_frac.items():\n",
    "    plt.scatter(np.array(list(zip(*frac))[0]) + padding, list(zip(*frac))[1], s=30, label=mon)\n",
    "    padding += len(list(zip(*frac))[0])\n",
    "    i += 1\n",
    "plt.legend()\n",
    "plt.xlabel(\"Day\")\n",
    "plt.ylabel(\"Fraction of time observable\")\n",
    "days = np.arange(0, 122, 10)\n",
    "begin = Time(f\"2022-09-01 12:00\")\n",
    "day_times = begin + days\n",
    "day_str = [oneday[:10] for oneday in day_times.iso]\n",
    "plt.xticks(days, day_str)\n",
    "plt.grid()\n",
    "plt.savefig(\"Observation_fraction.png\")"
   ]
  },
  {
   "cell_type": "code",
   "execution_count": 15,
   "metadata": {},
   "outputs": [],
   "source": [
    "import sys\n",
    "sys.path.append(\"../src/\")\n",
    "from plan_obs import schedule_obs_for_one_day"
   ]
  },
  {
   "cell_type": "code",
   "execution_count": 16,
   "metadata": {},
   "outputs": [],
   "source": [
    "slew_rate = .8*u.deg/u.second\n",
    "transitioner = Transitioner(slew_rate,\n",
    "                            {'filter':{('wide','med'): 10*u.second,\n",
    "                                       ('med','narrow'): 10*u.second,\n",
    "                                       'default': 30*u.second}})"
   ]
  },
  {
   "cell_type": "code",
   "execution_count": 17,
   "metadata": {},
   "outputs": [],
   "source": [
    "seq_scheduler = SequentialScheduler(constraints = global_constraints,\n",
    "                                    observer = WIRO_obs,\n",
    "                                    transitioner = transitioner)"
   ]
  },
  {
   "cell_type": "code",
   "execution_count": 18,
   "metadata": {},
   "outputs": [],
   "source": [
    "pro_scheduler = PriorityScheduler(constraints = global_constraints,\n",
    "                                    observer = WIRO_obs,\n",
    "                                    transitioner = transitioner)"
   ]
  },
  {
   "cell_type": "code",
   "execution_count": 20,
   "metadata": {},
   "outputs": [],
   "source": [
    "# Define the read-out time, exposure duration and number of exposures\n",
    "read_out = 20 * u.second\n",
    "# Given by the guiding star limitation\n",
    "xmm_exp = 600*u.second\n",
    "n = 6\n",
    "filters = ['wide', 'med', 'narrow']\n",
    "utcoffset = -6*u.hour\n",
    "month = 10\n",
    "day = 29\n",
    "schedule_1028 = schedule_obs_for_one_day(month, day, XMM, pro_scheduler, utcoffset, xmm_exp, n, read_out, list(enumerate(filters)))"
   ]
  },
  {
   "cell_type": "code",
   "execution_count": 21,
   "metadata": {},
   "outputs": [
    {
     "data": {
      "text/html": [
       "<div><i>Table length=3</i>\n",
       "<table id=\"table140356046052272\" class=\"table-striped table-bordered table-condensed\">\n",
       "<thead><tr><th>target</th><th>start time (UTC)</th><th>end time (UTC)</th><th>duration (minutes)</th><th>ra</th><th>dec</th><th>configuration</th></tr></thead>\n",
       "<thead><tr><th></th><th></th><th></th><th></th><th>deg</th><th>deg</th><th></th></tr></thead>\n",
       "<thead><tr><th>str4</th><th>str23</th><th>str23</th><th>float64</th><th>float64</th><th>float64</th><th>object</th></tr></thead>\n",
       "<tr><td>icrs</td><td>2022-10-30 05:22:40.025</td><td>2022-10-30 06:24:40.025</td><td>62.00000000000002</td><td>36.448</td><td>-4.601</td><td>{&apos;filter&apos;: &apos;narrow&apos;}</td></tr>\n",
       "<tr><td>icrs</td><td>2022-10-30 06:25:40.027</td><td>2022-10-30 07:27:40.027</td><td>62.00000000000002</td><td>36.448</td><td>-4.601</td><td>{&apos;filter&apos;: &apos;wide&apos;}</td></tr>\n",
       "<tr><td>icrs</td><td>2022-10-30 07:28:00.027</td><td>2022-10-30 08:30:00.027</td><td>62.00000000000002</td><td>36.448</td><td>-4.601</td><td>{&apos;filter&apos;: &apos;med&apos;}</td></tr>\n",
       "</table></div>"
      ],
      "text/plain": [
       "<Table length=3>\n",
       "target     start time (UTC)    ...   dec      configuration    \n",
       "                               ...   deg                       \n",
       " str4           str23          ... float64        object       \n",
       "------ ----------------------- ... ------- --------------------\n",
       "  icrs 2022-10-30 05:22:40.025 ...  -4.601 {'filter': 'narrow'}\n",
       "  icrs 2022-10-30 06:25:40.027 ...  -4.601   {'filter': 'wide'}\n",
       "  icrs 2022-10-30 07:28:00.027 ...  -4.601    {'filter': 'med'}"
      ]
     },
     "execution_count": 21,
     "metadata": {},
     "output_type": "execute_result"
    }
   ],
   "source": [
    "schedule_1028.to_table(False, False)"
   ]
  },
  {
   "cell_type": "code",
   "execution_count": 22,
   "metadata": {},
   "outputs": [],
   "source": [
    "from astroplan.plots import plot_airmass, plot_schedule_airmass"
   ]
  },
  {
   "cell_type": "code",
   "execution_count": 23,
   "metadata": {},
   "outputs": [
    {
     "name": "stderr",
     "output_type": "stream",
     "text": [
      "/usr/local/Caskroom/miniconda/base/envs/py39/lib/python3.9/site-packages/astroplan/plots/time_dependent.py:194: UserWarning: linestyle is redundantly defined by the 'linestyle' keyword argument and the fmt string \"-\" (-> linestyle='-'). The keyword argument will take precedence.\n",
      "  ax.plot_date(timetoplot.plot_date, masked_airmass, label=target_name, **style_kwargs)\n",
      "/usr/local/Caskroom/miniconda/base/envs/py39/lib/python3.9/site-packages/astroplan/plots/time_dependent.py:194: UserWarning: linestyle is redundantly defined by the 'linestyle' keyword argument and the fmt string \"-\" (-> linestyle='-'). The keyword argument will take precedence.\n",
      "  ax.plot_date(timetoplot.plot_date, masked_airmass, label=target_name, **style_kwargs)\n",
      "/usr/local/Caskroom/miniconda/base/envs/py39/lib/python3.9/site-packages/astroplan/plots/time_dependent.py:194: UserWarning: linestyle is redundantly defined by the 'linestyle' keyword argument and the fmt string \"-\" (-> linestyle='-'). The keyword argument will take precedence.\n",
      "  ax.plot_date(timetoplot.plot_date, masked_airmass, label=target_name, **style_kwargs)\n"
     ]
    },
    {
     "data": {
      "image/png": "[encoded data removed]",
      "text/plain": [
       "<Figure size 1008x432 with 1 Axes>"
      ]
     },
     "metadata": {
      "needs_background": "light"
     },
     "output_type": "display_data"
    }
   ],
   "source": [
    "# You will need to modify astroplan source code to run this \n",
    "# cell\n",
    "plt.figure(figsize = (14,6))\n",
    "plot_schedule_airmass(schedule_1028, show_night=True)\n",
    "plt.legend(loc = \"upper right\")\n",
    "plt.show()"
   ]
  },
  {
   "cell_type": "code",
   "execution_count": 25,
   "metadata": {},
   "outputs": [
    {
     "name": "stderr",
     "output_type": "stream",
     "text": [
      "/usr/local/Caskroom/miniconda/base/envs/py39/lib/python3.9/site-packages/astroplan/plots/time_dependent.py:194: UserWarning: linestyle is redundantly defined by the 'linestyle' keyword argument and the fmt string \"-\" (-> linestyle='-'). The keyword argument will take precedence.\n",
      "  ax.plot_date(timetoplot.plot_date, masked_airmass, label=target_name, **style_kwargs)\n"
     ]
    },
    {
     "data": {
      "image/png": "[encoded data removed]",
      "text/plain": [
       "<Figure size 432x288 with 1 Axes>"
      ]
     },
     "metadata": {
      "needs_background": "light"
     },
     "output_type": "display_data"
    }
   ],
   "source": [
    "full_night_start = Time(f'2022-{month:02}-{day:02} 19:00') + np.linspace(0, 10, 100) * u.hour - utcoffset\n",
    "plot_airmass(XMM, WIRO_obs, full_night_start, brightness_shading=True)\n",
    "plt.savefig(\"airmass_twilight.png\")"
   ]
  },
  {
   "cell_type": "code",
   "execution_count": null,
   "metadata": {},
   "outputs": [],
   "source": []
  }
 ],
 "metadata": {
  "kernelspec": {
   "display_name": "Python (py39)",
   "language": "python",
   "name": "python3"
  },
  "language_info": {
   "codemirror_mode": {
    "name": "ipython",
    "version": 3
   },
   "file_extension": ".py",
   "mimetype": "text/x-python",
   "name": "python",
   "nbconvert_exporter": "python",
   "pygments_lexer": "ipython3",
   "version": "3.9.12"
  },
  "vscode": {
   "interpreter": {
    "hash": "84faba2c3d73f72195a31da7dbd07f0b601f44c80958afd4e19c4d66e3eef367"
   }
  }
 },
 "nbformat": 4,
 "nbformat_minor": 4
}
