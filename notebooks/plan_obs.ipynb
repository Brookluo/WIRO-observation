{
 "cells": [
  {
   "cell_type": "code",
   "execution_count": 1,
   "metadata": {},
   "outputs": [],
   "source": [
    "import astropy\n",
    "import astropy.units as u\n",
    "import numpy as np\n",
    "from astropy.coordinates import AltAz, EarthLocation, SkyCoord\n",
    "from astropy.table import Table\n",
    "from astropy.time import Time\n",
    "import sys\n",
    "sys.path.append(\"../src/\")\n",
    "from plan_obs import output_minsecz_in_month"
   ]
  },
  {
   "cell_type": "code",
   "execution_count": 2,
   "metadata": {},
   "outputs": [],
   "source": [
    "import matplotlib.pyplot as plt"
   ]
  },
  {
   "cell_type": "code",
   "execution_count": 3,
   "metadata": {},
   "outputs": [],
   "source": [
    "sky_wiro = SkyCoord(\"-105d58m33s +41d5m49s\", unit=(u.deg, u.deg))\n",
    "WIRO = EarthLocation(lat=sky_wiro.dec, lon=sky_wiro.ra, height=2943*u.m)"
   ]
  },
  {
   "cell_type": "code",
   "execution_count": 4,
   "metadata": {},
   "outputs": [],
   "source": [
    "# XMM = SkyCoord(ra=36.448*u.deg, dec=-4.601*u.deg)\n",
    "# recenter to Rongpu's calculation\n",
    "# https://www.legacysurvey.org/viewer/?ra=35.41&dec=-4.85&layer=ls-dr9&zoom=8&desifoot=35.41,-4.85\n",
    "\n",
    "XMM = SkyCoord(ra=34.6 * u.deg, dec=-4.95*u.deg)"
   ]
  },
  {
   "cell_type": "markdown",
   "metadata": {},
   "source": [
    "## Check airmass of the field for October"
   ]
  },
  {
   "cell_type": "code",
   "execution_count": 5,
   "metadata": {},
   "outputs": [
    {
     "data": {
      "text/html": [
       "<div>\n",
       "<style scoped>\n",
       "    .dataframe tbody tr th:only-of-type {\n",
       "        vertical-align: middle;\n",
       "    }\n",
       "\n",
       "    .dataframe tbody tr th {\n",
       "        vertical-align: top;\n",
       "    }\n",
       "\n",
       "    .dataframe thead th {\n",
       "        text-align: right;\n",
       "    }\n",
       "</style>\n",
       "<table border=\"1\" class=\"dataframe\">\n",
       "  <thead>\n",
       "    <tr style=\"text-align: right;\">\n",
       "      <th></th>\n",
       "      <th>Date</th>\n",
       "      <th>Object Coordinates (hms.ss degree)</th>\n",
       "      <th>RA(o)</th>\n",
       "      <th>Dec(o)</th>\n",
       "      <th>Airmass</th>\n",
       "    </tr>\n",
       "  </thead>\n",
       "  <tbody>\n",
       "    <tr>\n",
       "      <th>0</th>\n",
       "      <td>2022-10-01T00:00:00.000</td>\n",
       "      <td>&lt;SkyCoord (ICRS): (ra, dec) in deg\\n    (34.6,...</td>\n",
       "      <td>34.6</td>\n",
       "      <td>-4.95</td>\n",
       "      <td>1.612461</td>\n",
       "    </tr>\n",
       "    <tr>\n",
       "      <th>1</th>\n",
       "      <td>2022-10-02T00:00:00.000</td>\n",
       "      <td>&lt;SkyCoord (ICRS): (ra, dec) in deg\\n    (34.6,...</td>\n",
       "      <td>34.6</td>\n",
       "      <td>-4.95</td>\n",
       "      <td>1.598196</td>\n",
       "    </tr>\n",
       "    <tr>\n",
       "      <th>2</th>\n",
       "      <td>2022-10-03T00:00:00.000</td>\n",
       "      <td>&lt;SkyCoord (ICRS): (ra, dec) in deg\\n    (34.6,...</td>\n",
       "      <td>34.6</td>\n",
       "      <td>-4.95</td>\n",
       "      <td>1.584688</td>\n",
       "    </tr>\n",
       "    <tr>\n",
       "      <th>3</th>\n",
       "      <td>2022-10-04T00:00:00.000</td>\n",
       "      <td>&lt;SkyCoord (ICRS): (ra, dec) in deg\\n    (34.6,...</td>\n",
       "      <td>34.6</td>\n",
       "      <td>-4.95</td>\n",
       "      <td>1.571908</td>\n",
       "    </tr>\n",
       "    <tr>\n",
       "      <th>4</th>\n",
       "      <td>2022-10-05T00:00:00.000</td>\n",
       "      <td>&lt;SkyCoord (ICRS): (ra, dec) in deg\\n    (34.6,...</td>\n",
       "      <td>34.6</td>\n",
       "      <td>-4.95</td>\n",
       "      <td>1.559830</td>\n",
       "    </tr>\n",
       "    <tr>\n",
       "      <th>5</th>\n",
       "      <td>2022-10-06T00:00:00.000</td>\n",
       "      <td>&lt;SkyCoord (ICRS): (ra, dec) in deg\\n    (34.6,...</td>\n",
       "      <td>34.6</td>\n",
       "      <td>-4.95</td>\n",
       "      <td>1.548431</td>\n",
       "    </tr>\n",
       "    <tr>\n",
       "      <th>6</th>\n",
       "      <td>2022-10-07T00:00:00.000</td>\n",
       "      <td>&lt;SkyCoord (ICRS): (ra, dec) in deg\\n    (34.6,...</td>\n",
       "      <td>34.6</td>\n",
       "      <td>-4.95</td>\n",
       "      <td>1.537687</td>\n",
       "    </tr>\n",
       "    <tr>\n",
       "      <th>7</th>\n",
       "      <td>2022-10-08T00:00:00.000</td>\n",
       "      <td>&lt;SkyCoord (ICRS): (ra, dec) in deg\\n    (34.6,...</td>\n",
       "      <td>34.6</td>\n",
       "      <td>-4.95</td>\n",
       "      <td>1.527579</td>\n",
       "    </tr>\n",
       "    <tr>\n",
       "      <th>8</th>\n",
       "      <td>2022-10-09T00:00:00.000</td>\n",
       "      <td>&lt;SkyCoord (ICRS): (ra, dec) in deg\\n    (34.6,...</td>\n",
       "      <td>34.6</td>\n",
       "      <td>-4.95</td>\n",
       "      <td>1.518088</td>\n",
       "    </tr>\n",
       "    <tr>\n",
       "      <th>9</th>\n",
       "      <td>2022-10-10T00:00:00.000</td>\n",
       "      <td>&lt;SkyCoord (ICRS): (ra, dec) in deg\\n    (34.6,...</td>\n",
       "      <td>34.6</td>\n",
       "      <td>-4.95</td>\n",
       "      <td>1.509195</td>\n",
       "    </tr>\n",
       "    <tr>\n",
       "      <th>10</th>\n",
       "      <td>2022-10-11T00:00:00.000</td>\n",
       "      <td>&lt;SkyCoord (ICRS): (ra, dec) in deg\\n    (34.6,...</td>\n",
       "      <td>34.6</td>\n",
       "      <td>-4.95</td>\n",
       "      <td>1.500884</td>\n",
       "    </tr>\n",
       "    <tr>\n",
       "      <th>11</th>\n",
       "      <td>2022-10-12T00:00:00.000</td>\n",
       "      <td>&lt;SkyCoord (ICRS): (ra, dec) in deg\\n    (34.6,...</td>\n",
       "      <td>34.6</td>\n",
       "      <td>-4.95</td>\n",
       "      <td>1.493140</td>\n",
       "    </tr>\n",
       "    <tr>\n",
       "      <th>12</th>\n",
       "      <td>2022-10-13T00:00:00.000</td>\n",
       "      <td>&lt;SkyCoord (ICRS): (ra, dec) in deg\\n    (34.6,...</td>\n",
       "      <td>34.6</td>\n",
       "      <td>-4.95</td>\n",
       "      <td>1.485949</td>\n",
       "    </tr>\n",
       "    <tr>\n",
       "      <th>13</th>\n",
       "      <td>2022-10-14T00:00:00.000</td>\n",
       "      <td>&lt;SkyCoord (ICRS): (ra, dec) in deg\\n    (34.6,...</td>\n",
       "      <td>34.6</td>\n",
       "      <td>-4.95</td>\n",
       "      <td>1.479298</td>\n",
       "    </tr>\n",
       "    <tr>\n",
       "      <th>14</th>\n",
       "      <td>2022-10-15T00:00:00.000</td>\n",
       "      <td>&lt;SkyCoord (ICRS): (ra, dec) in deg\\n    (34.6,...</td>\n",
       "      <td>34.6</td>\n",
       "      <td>-4.95</td>\n",
       "      <td>1.473176</td>\n",
       "    </tr>\n",
       "    <tr>\n",
       "      <th>15</th>\n",
       "      <td>2022-10-16T00:00:00.000</td>\n",
       "      <td>&lt;SkyCoord (ICRS): (ra, dec) in deg\\n    (34.6,...</td>\n",
       "      <td>34.6</td>\n",
       "      <td>-4.95</td>\n",
       "      <td>1.467572</td>\n",
       "    </tr>\n",
       "    <tr>\n",
       "      <th>16</th>\n",
       "      <td>2022-10-17T00:00:00.000</td>\n",
       "      <td>&lt;SkyCoord (ICRS): (ra, dec) in deg\\n    (34.6,...</td>\n",
       "      <td>34.6</td>\n",
       "      <td>-4.95</td>\n",
       "      <td>1.462477</td>\n",
       "    </tr>\n",
       "    <tr>\n",
       "      <th>17</th>\n",
       "      <td>2022-10-18T00:00:00.000</td>\n",
       "      <td>&lt;SkyCoord (ICRS): (ra, dec) in deg\\n    (34.6,...</td>\n",
       "      <td>34.6</td>\n",
       "      <td>-4.95</td>\n",
       "      <td>1.457882</td>\n",
       "    </tr>\n",
       "    <tr>\n",
       "      <th>18</th>\n",
       "      <td>2022-10-19T00:00:00.000</td>\n",
       "      <td>&lt;SkyCoord (ICRS): (ra, dec) in deg\\n    (34.6,...</td>\n",
       "      <td>34.6</td>\n",
       "      <td>-4.95</td>\n",
       "      <td>1.453780</td>\n",
       "    </tr>\n",
       "    <tr>\n",
       "      <th>19</th>\n",
       "      <td>2022-10-20T00:00:00.000</td>\n",
       "      <td>&lt;SkyCoord (ICRS): (ra, dec) in deg\\n    (34.6,...</td>\n",
       "      <td>34.6</td>\n",
       "      <td>-4.95</td>\n",
       "      <td>1.450162</td>\n",
       "    </tr>\n",
       "    <tr>\n",
       "      <th>20</th>\n",
       "      <td>2022-10-21T00:00:00.000</td>\n",
       "      <td>&lt;SkyCoord (ICRS): (ra, dec) in deg\\n    (34.6,...</td>\n",
       "      <td>34.6</td>\n",
       "      <td>-4.95</td>\n",
       "      <td>1.447025</td>\n",
       "    </tr>\n",
       "    <tr>\n",
       "      <th>21</th>\n",
       "      <td>2022-10-22T00:00:00.000</td>\n",
       "      <td>&lt;SkyCoord (ICRS): (ra, dec) in deg\\n    (34.6,...</td>\n",
       "      <td>34.6</td>\n",
       "      <td>-4.95</td>\n",
       "      <td>1.444362</td>\n",
       "    </tr>\n",
       "    <tr>\n",
       "      <th>22</th>\n",
       "      <td>2022-10-23T00:00:00.000</td>\n",
       "      <td>&lt;SkyCoord (ICRS): (ra, dec) in deg\\n    (34.6,...</td>\n",
       "      <td>34.6</td>\n",
       "      <td>-4.95</td>\n",
       "      <td>1.442168</td>\n",
       "    </tr>\n",
       "    <tr>\n",
       "      <th>23</th>\n",
       "      <td>2022-10-24T00:00:00.000</td>\n",
       "      <td>&lt;SkyCoord (ICRS): (ra, dec) in deg\\n    (34.6,...</td>\n",
       "      <td>34.6</td>\n",
       "      <td>-4.95</td>\n",
       "      <td>1.440442</td>\n",
       "    </tr>\n",
       "    <tr>\n",
       "      <th>24</th>\n",
       "      <td>2022-10-25T00:00:00.000</td>\n",
       "      <td>&lt;SkyCoord (ICRS): (ra, dec) in deg\\n    (34.6,...</td>\n",
       "      <td>34.6</td>\n",
       "      <td>-4.95</td>\n",
       "      <td>1.439178</td>\n",
       "    </tr>\n",
       "    <tr>\n",
       "      <th>25</th>\n",
       "      <td>2022-10-26T00:00:00.000</td>\n",
       "      <td>&lt;SkyCoord (ICRS): (ra, dec) in deg\\n    (34.6,...</td>\n",
       "      <td>34.6</td>\n",
       "      <td>-4.95</td>\n",
       "      <td>1.438377</td>\n",
       "    </tr>\n",
       "    <tr>\n",
       "      <th>26</th>\n",
       "      <td>2022-10-27T00:00:00.000</td>\n",
       "      <td>&lt;SkyCoord (ICRS): (ra, dec) in deg\\n    (34.6,...</td>\n",
       "      <td>34.6</td>\n",
       "      <td>-4.95</td>\n",
       "      <td>1.438035</td>\n",
       "    </tr>\n",
       "    <tr>\n",
       "      <th>27</th>\n",
       "      <td>2022-10-28T00:00:00.000</td>\n",
       "      <td>&lt;SkyCoord (ICRS): (ra, dec) in deg\\n    (34.6,...</td>\n",
       "      <td>34.6</td>\n",
       "      <td>-4.95</td>\n",
       "      <td>1.438152</td>\n",
       "    </tr>\n",
       "    <tr>\n",
       "      <th>28</th>\n",
       "      <td>2022-10-29T00:00:00.000</td>\n",
       "      <td>&lt;SkyCoord (ICRS): (ra, dec) in deg\\n    (34.6,...</td>\n",
       "      <td>34.6</td>\n",
       "      <td>-4.95</td>\n",
       "      <td>1.438730</td>\n",
       "    </tr>\n",
       "    <tr>\n",
       "      <th>29</th>\n",
       "      <td>2022-10-30T00:00:00.000</td>\n",
       "      <td>&lt;SkyCoord (ICRS): (ra, dec) in deg\\n    (34.6,...</td>\n",
       "      <td>34.6</td>\n",
       "      <td>-4.95</td>\n",
       "      <td>1.439767</td>\n",
       "    </tr>\n",
       "    <tr>\n",
       "      <th>30</th>\n",
       "      <td>2022-10-31T00:00:00.000</td>\n",
       "      <td>&lt;SkyCoord (ICRS): (ra, dec) in deg\\n    (34.6,...</td>\n",
       "      <td>34.6</td>\n",
       "      <td>-4.95</td>\n",
       "      <td>1.441267</td>\n",
       "    </tr>\n",
       "  </tbody>\n",
       "</table>\n",
       "</div>"
      ],
      "text/plain": [
       "                       Date  \\\n",
       "0   2022-10-01T00:00:00.000   \n",
       "1   2022-10-02T00:00:00.000   \n",
       "2   2022-10-03T00:00:00.000   \n",
       "3   2022-10-04T00:00:00.000   \n",
       "4   2022-10-05T00:00:00.000   \n",
       "5   2022-10-06T00:00:00.000   \n",
       "6   2022-10-07T00:00:00.000   \n",
       "7   2022-10-08T00:00:00.000   \n",
       "8   2022-10-09T00:00:00.000   \n",
       "9   2022-10-10T00:00:00.000   \n",
       "10  2022-10-11T00:00:00.000   \n",
       "11  2022-10-12T00:00:00.000   \n",
       "12  2022-10-13T00:00:00.000   \n",
       "13  2022-10-14T00:00:00.000   \n",
       "14  2022-10-15T00:00:00.000   \n",
       "15  2022-10-16T00:00:00.000   \n",
       "16  2022-10-17T00:00:00.000   \n",
       "17  2022-10-18T00:00:00.000   \n",
       "18  2022-10-19T00:00:00.000   \n",
       "19  2022-10-20T00:00:00.000   \n",
       "20  2022-10-21T00:00:00.000   \n",
       "21  2022-10-22T00:00:00.000   \n",
       "22  2022-10-23T00:00:00.000   \n",
       "23  2022-10-24T00:00:00.000   \n",
       "24  2022-10-25T00:00:00.000   \n",
       "25  2022-10-26T00:00:00.000   \n",
       "26  2022-10-27T00:00:00.000   \n",
       "27  2022-10-28T00:00:00.000   \n",
       "28  2022-10-29T00:00:00.000   \n",
       "29  2022-10-30T00:00:00.000   \n",
       "30  2022-10-31T00:00:00.000   \n",
       "\n",
       "                   Object Coordinates (hms.ss degree)  RA(o)  Dec(o)   Airmass  \n",
       "0   <SkyCoord (ICRS): (ra, dec) in deg\\n    (34.6,...   34.6   -4.95  1.612461  \n",
       "1   <SkyCoord (ICRS): (ra, dec) in deg\\n    (34.6,...   34.6   -4.95  1.598196  \n",
       "2   <SkyCoord (ICRS): (ra, dec) in deg\\n    (34.6,...   34.6   -4.95  1.584688  \n",
       "3   <SkyCoord (ICRS): (ra, dec) in deg\\n    (34.6,...   34.6   -4.95  1.571908  \n",
       "4   <SkyCoord (ICRS): (ra, dec) in deg\\n    (34.6,...   34.6   -4.95  1.559830  \n",
       "5   <SkyCoord (ICRS): (ra, dec) in deg\\n    (34.6,...   34.6   -4.95  1.548431  \n",
       "6   <SkyCoord (ICRS): (ra, dec) in deg\\n    (34.6,...   34.6   -4.95  1.537687  \n",
       "7   <SkyCoord (ICRS): (ra, dec) in deg\\n    (34.6,...   34.6   -4.95  1.527579  \n",
       "8   <SkyCoord (ICRS): (ra, dec) in deg\\n    (34.6,...   34.6   -4.95  1.518088  \n",
       "9   <SkyCoord (ICRS): (ra, dec) in deg\\n    (34.6,...   34.6   -4.95  1.509195  \n",
       "10  <SkyCoord (ICRS): (ra, dec) in deg\\n    (34.6,...   34.6   -4.95  1.500884  \n",
       "11  <SkyCoord (ICRS): (ra, dec) in deg\\n    (34.6,...   34.6   -4.95  1.493140  \n",
       "12  <SkyCoord (ICRS): (ra, dec) in deg\\n    (34.6,...   34.6   -4.95  1.485949  \n",
       "13  <SkyCoord (ICRS): (ra, dec) in deg\\n    (34.6,...   34.6   -4.95  1.479298  \n",
       "14  <SkyCoord (ICRS): (ra, dec) in deg\\n    (34.6,...   34.6   -4.95  1.473176  \n",
       "15  <SkyCoord (ICRS): (ra, dec) in deg\\n    (34.6,...   34.6   -4.95  1.467572  \n",
       "16  <SkyCoord (ICRS): (ra, dec) in deg\\n    (34.6,...   34.6   -4.95  1.462477  \n",
       "17  <SkyCoord (ICRS): (ra, dec) in deg\\n    (34.6,...   34.6   -4.95  1.457882  \n",
       "18  <SkyCoord (ICRS): (ra, dec) in deg\\n    (34.6,...   34.6   -4.95  1.453780  \n",
       "19  <SkyCoord (ICRS): (ra, dec) in deg\\n    (34.6,...   34.6   -4.95  1.450162  \n",
       "20  <SkyCoord (ICRS): (ra, dec) in deg\\n    (34.6,...   34.6   -4.95  1.447025  \n",
       "21  <SkyCoord (ICRS): (ra, dec) in deg\\n    (34.6,...   34.6   -4.95  1.444362  \n",
       "22  <SkyCoord (ICRS): (ra, dec) in deg\\n    (34.6,...   34.6   -4.95  1.442168  \n",
       "23  <SkyCoord (ICRS): (ra, dec) in deg\\n    (34.6,...   34.6   -4.95  1.440442  \n",
       "24  <SkyCoord (ICRS): (ra, dec) in deg\\n    (34.6,...   34.6   -4.95  1.439178  \n",
       "25  <SkyCoord (ICRS): (ra, dec) in deg\\n    (34.6,...   34.6   -4.95  1.438377  \n",
       "26  <SkyCoord (ICRS): (ra, dec) in deg\\n    (34.6,...   34.6   -4.95  1.438035  \n",
       "27  <SkyCoord (ICRS): (ra, dec) in deg\\n    (34.6,...   34.6   -4.95  1.438152  \n",
       "28  <SkyCoord (ICRS): (ra, dec) in deg\\n    (34.6,...   34.6   -4.95  1.438730  \n",
       "29  <SkyCoord (ICRS): (ra, dec) in deg\\n    (34.6,...   34.6   -4.95  1.439767  \n",
       "30  <SkyCoord (ICRS): (ra, dec) in deg\\n    (34.6,...   34.6   -4.95  1.441267  "
      ]
     },
     "execution_count": 5,
     "metadata": {},
     "output_type": "execute_result"
    }
   ],
   "source": [
    "output_minsecz_in_month(10, 2022, WIRO, XMM)"
   ]
  },
  {
   "cell_type": "markdown",
   "metadata": {},
   "source": [
    "## Make an observation plan and check observability of the target field"
   ]
  },
  {
   "cell_type": "code",
   "execution_count": 6,
   "metadata": {},
   "outputs": [],
   "source": [
    "import astroplan\n",
    "from astroplan.constraints import AtNightConstraint, AirmassConstraint, MoonIlluminationConstraint, AltitudeConstraint, MoonSeparationConstraint"
   ]
  },
  {
   "cell_type": "code",
   "execution_count": 7,
   "metadata": {},
   "outputs": [],
   "source": [
    "from astroplan import Observer\n",
    "from astroplan import is_observable, is_always_observable, months_observable"
   ]
  },
  {
   "cell_type": "code",
   "execution_count": 8,
   "metadata": {},
   "outputs": [],
   "source": [
    "WIRO_obs = Observer(location=WIRO, name=\"WIRO\")"
   ]
  },
  {
   "cell_type": "code",
   "execution_count": 9,
   "metadata": {},
   "outputs": [],
   "source": [
    "global_constraints = [AltitudeConstraint(10*u.deg, 70*u.deg),\n",
    "                      AirmassConstraint(max = 2.0, boolean_constraint = False),\n",
    "                      AtNightConstraint.twilight_civil(),\n",
    "                      MoonIlluminationConstraint(max=0.3),\n",
    "                      MoonSeparationConstraint(min=30*u.deg)]"
   ]
  },
  {
   "cell_type": "code",
   "execution_count": 10,
   "metadata": {},
   "outputs": [
    {
     "name": "stdout",
     "output_type": "stream",
     "text": [
      "[{1, 2, 3, 7, 8, 9, 10, 11, 12}]\n"
     ]
    }
   ],
   "source": [
    "best_months = months_observable(global_constraints, WIRO_obs, [XMM])\n",
    "print(best_months)"
   ]
  },
  {
   "cell_type": "code",
   "execution_count": 11,
   "metadata": {},
   "outputs": [],
   "source": [
    "from astroplan import observability_table, Schedule\n",
    "from astroplan.scheduling import Transitioner, SequentialScheduler, PriorityScheduler"
   ]
  },
  {
   "cell_type": "code",
   "execution_count": 12,
   "metadata": {},
   "outputs": [
    {
     "name": "stdout",
     "output_type": "stream",
     "text": [
      "1 target name ever observable always observable fraction of time observable\n",
      "----------- --------------- ----------------- ---------------------------\n",
      "       icrs            True             False         0.09236111111111112\n",
      "2 target name ever observable always observable fraction of time observable\n",
      "----------- --------------- ----------------- ---------------------------\n",
      "       icrs            True             False         0.02700617283950617\n",
      "3 target name ever observable always observable fraction of time observable\n",
      "----------- --------------- ----------------- ---------------------------\n",
      "       icrs            True             False        0.001388888888888889\n",
      "4 target name ever observable always observable fraction of time observable\n",
      "----------- --------------- ----------------- ---------------------------\n",
      "       icrs           False             False                         0.0\n",
      "5 target name ever observable always observable fraction of time observable\n",
      "----------- --------------- ----------------- ---------------------------\n",
      "       icrs           False             False                         0.0\n",
      "6 target name ever observable always observable fraction of time observable\n",
      "----------- --------------- ----------------- ---------------------------\n",
      "       icrs           False             False                         0.0\n",
      "7 target name ever observable always observable fraction of time observable\n",
      "----------- --------------- ----------------- ---------------------------\n",
      "       icrs            True             False        0.011111111111111112\n",
      "8 target name ever observable always observable fraction of time observable\n",
      "----------- --------------- ----------------- ---------------------------\n",
      "       icrs            True             False          0.0763888888888889\n",
      "9 target name ever observable always observable fraction of time observable\n",
      "----------- --------------- ----------------- ---------------------------\n",
      "       icrs            True             False          0.1285919540229885\n",
      "10 target name ever observable always observable fraction of time observable\n",
      "----------- --------------- ----------------- ---------------------------\n",
      "       icrs            True             False         0.13055555555555556\n",
      "11 target name ever observable always observable fraction of time observable\n",
      "----------- --------------- ----------------- ---------------------------\n",
      "       icrs            True             False         0.11566091954022989\n",
      "12 target name ever observable always observable fraction of time observable\n",
      "----------- --------------- ----------------- ---------------------------\n",
      "       icrs            True             False         0.12013888888888889\n"
     ]
    }
   ],
   "source": [
    "for i in range(1, 13):\n",
    "    try:\n",
    "        time_range = Time([f\"2022-{i:02}-01\", f\"2022-{i:02}-31\"])\n",
    "    except ValueError:\n",
    "        if i == 2:\n",
    "            time_range = Time([f\"2022-{i:02}-01\", f\"2022-{i:02}-28\"])\n",
    "        else:\n",
    "            time_range = Time([f\"2022-{i:02}-01\", f\"2022-{i:02}-30\"])\n",
    "    obs_table = observability_table(global_constraints, WIRO_obs, [XMM], time_range=time_range)\n",
    "    print(i, obs_table)"
   ]
  },
  {
   "cell_type": "code",
   "execution_count": 13,
   "metadata": {},
   "outputs": [],
   "source": [
    "utcoffset = -6*u.hour\n",
    "date_obs_frac = {}\n",
    "for i in range(9, 13):\n",
    "    date_obs_frac[i] = []\n",
    "    initial_day = Time(f\"2022-{i:02}-01 12:00\", scale=\"utc\") - utcoffset\n",
    "    cur_day = initial_day + 1 * u.day\n",
    "    while initial_day.ymdhms[\"month\"] == i:\n",
    "        time_range = Time([initial_day, cur_day])\n",
    "        obs_table = observability_table(global_constraints, WIRO_obs, [XMM], time_range=time_range, time_grid_resolution=5*u.minute)\n",
    "        date_obs_frac[i].append((initial_day.ymdhms[\"day\"], obs_table[\"fraction of time observable\"][0]))\n",
    "        initial_day = cur_day\n",
    "        cur_day += 1 * u.day"
   ]
  },
  {
   "cell_type": "code",
   "execution_count": 14,
   "metadata": {},
   "outputs": [
    {
     "data": {
      "image/png": "[encoded data removed]",
      "text/plain": [
       "<Figure size 1440x720 with 1 Axes>"
      ]
     },
     "metadata": {
      "needs_background": "light"
     },
     "output_type": "display_data"
    }
   ],
   "source": [
    "plt.figure(figsize=(20, 10))\n",
    "shape = [\".\", \"x\", \"*\", \"^\"]\n",
    "i = 0\n",
    "padding = 0\n",
    "for mon, frac in date_obs_frac.items():\n",
    "    plt.scatter(np.array(list(zip(*frac))[0]) + padding, list(zip(*frac))[1], s=30, label=mon)\n",
    "    padding += len(list(zip(*frac))[0])\n",
    "    i += 1\n",
    "plt.legend()\n",
    "plt.xlabel(\"Day\")\n",
    "plt.ylabel(\"Fraction of time observable\")\n",
    "days = np.arange(0, 122, 10)\n",
    "begin = Time(f\"2022-09-01 12:00\")\n",
    "day_times = begin + days\n",
    "day_str = [oneday[:10] for oneday in day_times.iso]\n",
    "plt.xticks(days, day_str)\n",
    "plt.grid()\n",
    "plt.savefig(\"Observation_fraction.png\")"
   ]
  },
  {
   "cell_type": "code",
   "execution_count": 15,
   "metadata": {},
   "outputs": [],
   "source": [
    "import importlib"
   ]
  },
  {
   "cell_type": "code",
   "execution_count": 16,
   "metadata": {},
   "outputs": [],
   "source": [
    "import plan_obs\n",
    "importlib.reload(plan_obs)\n",
    "from plan_obs import write_plan_to_file"
   ]
  },
  {
   "cell_type": "code",
   "execution_count": 17,
   "metadata": {},
   "outputs": [],
   "source": [
    "utcoffset = -6*u.hour\n",
    "for mon, frac in date_obs_frac.items():\n",
    "    # days = np.array(list(zip(*frac))[0])\n",
    "    # monfrac = np.array(list(zip(*frac))[1])\n",
    "    for i, (day, day_frac) in enumerate(frac):\n",
    "        full_day = f\"2022-{mon:02}-{day}\"\n",
    "        ondate = Time(f\"{full_day} 12:00\", scale=\"utc\")\n",
    "        if ondate > Time(\"2022-11-06 02:00\", scale=\"utc\"):\n",
    "            utcoffset = -7*u.hour\n",
    "        if day_frac > 0:\n",
    "            write_plan_to_file(f\"../obs_plan_per_day/rongpu_XMM/{full_day}.txt\", ondate, utcoffset, global_constraints,\n",
    "                                XMM, WIRO, \"WIRO\")\n",
    "        "
   ]
  },
  {
   "cell_type": "markdown",
   "metadata": {},
   "source": [
    "## Generate observibility table for a whole windows "
   ]
  },
  {
   "cell_type": "code",
   "execution_count": 18,
   "metadata": {},
   "outputs": [],
   "source": [
    "oneday = Time(f\"2022-11-27 04:00\", scale=\"utc\", location=WIRO) "
   ]
  },
  {
   "cell_type": "code",
   "execution_count": 19,
   "metadata": {},
   "outputs": [
    {
     "data": {
      "text/plain": [
       "'2022-11-27'"
      ]
     },
     "execution_count": 19,
     "metadata": {},
     "output_type": "execute_result"
    }
   ],
   "source": [
    "oneday.isot.split(\"T\")[0]"
   ]
  },
  {
   "cell_type": "code",
   "execution_count": 20,
   "metadata": {},
   "outputs": [
    {
     "data": {
      "text/latex": [
       "$(-1325444.8, -4629744.7, 4172477.1) \\; \\mathrm{m}$"
      ],
      "text/plain": [
       "<EarthLocation (-1325444.84442106, -4629744.67131631, 4172477.07511116) m>"
      ]
     },
     "execution_count": 20,
     "metadata": {},
     "output_type": "execute_result"
    }
   ],
   "source": [
    "WIRO"
   ]
  },
  {
   "cell_type": "code",
   "execution_count": 21,
   "metadata": {},
   "outputs": [],
   "source": [
    "def write_plan_to_file(filename, ondate, utcoffset, target_coord, site_location, site_name):\n",
    "    \"\"\"_summary_\n",
    "\n",
    "    Parameters\n",
    "    ----------\n",
    "    filename : _type_\n",
    "        _description_\n",
    "    ondate : _type_\n",
    "        _description_\n",
    "    utcoffset : _type_\n",
    "        _description_\n",
    "    target_coord : astropy.coordinates.SkyCoord\n",
    "        SkyCoord of the target (must be a single target)\n",
    "    site_location : _type_\n",
    "        _description_\n",
    "    site_name : _type_\n",
    "        _description_\n",
    "    \"\"\"    \n",
    "    lines = [f\"UTC, LST, airmass, obs_frac\\n\"]\n",
    "    ten_min = 1 * u.hour / 6\n",
    "    observer = Observer(location=site_location, name=site_name)\n",
    "    for i in range(23 * 6):\n",
    "        new_date = ondate + ten_min\n",
    "        time_range = Time([ondate, new_date])\n",
    "        obs_table = observability_table(global_constraints, observer, \n",
    "                                        [target_coord], time_range=time_range, \n",
    "                                        time_grid_resolution=1*u.minute)\n",
    "        airmass = target_coord.transform_to(AltAz(obstime=ondate, location=site_location)).secz\n",
    "        obs_frac = obs_table[\"fraction of time observable\"][0]\n",
    "        utc = ondate\n",
    "        lst = ondate + utcoffset\n",
    "        if obs_table[\"fraction of time observable\"][0] > 0:\n",
    "            lines.append(f\"{utc}, {lst}, {airmass}, {obs_frac}\\n\")\n",
    "        ondate = new_date\n",
    "    with open(filename, \"w\") as fh:\n",
    "        fh.writelines(lines)"
   ]
  },
  {
   "cell_type": "code",
   "execution_count": 22,
   "metadata": {},
   "outputs": [],
   "source": [
    "utcoffset = -6*u.hour\n",
    "oneday = Time(f\"2022-09-29 16:00\", scale=\"utc\", location=WIRO) \n",
    "write_plan_to_file(\"test_plan.txt\", oneday, utcoffset, XMM, WIRO, \"WIRO\")"
   ]
  },
  {
   "cell_type": "code",
   "execution_count": 23,
   "metadata": {},
   "outputs": [
    {
     "name": "stdout",
     "output_type": "stream",
     "text": [
      "2022-09-30 05:50:00.000 2022-09-29 23:50:00.000 0.18181818181818182 2.079021289440873\n",
      "2022-09-30 06:00:00.000 2022-09-30 00:00:00.000 1.0 1.9862478889093236\n",
      "2022-09-30 06:10:00.000 2022-09-30 00:10:00.000 1.0 1.9052763059458322\n",
      "2022-09-30 06:20:00.000 2022-09-30 00:20:00.000 1.0 1.834378117323232\n",
      "2022-09-30 06:30:00.000 2022-09-30 00:30:00.000 1.0 1.7721702573926288\n",
      "2022-09-30 06:40:00.000 2022-09-30 00:40:00.000 1.0 1.7175354787014232\n",
      "2022-09-30 06:50:00.000 2022-09-30 00:50:00.000 1.0 1.6695641248937745\n",
      "2022-09-30 07:00:00.000 2022-09-30 01:00:00.000 1.0 1.6275108821822497\n",
      "2022-09-30 07:10:00.000 2022-09-30 01:10:00.000 1.0 1.5907622465226159\n",
      "2022-09-30 07:20:00.000 2022-09-30 01:20:00.000 1.0 1.5588117840763864\n",
      "2022-09-30 07:30:00.000 2022-09-30 01:30:00.000 1.0 1.5312411483671486\n",
      "2022-09-30 07:40:00.000 2022-09-30 01:40:00.000 1.0 1.507705414191164\n",
      "2022-09-30 07:50:00.000 2022-09-30 01:50:00.000 1.0 1.4879216974849463\n",
      "2022-09-30 08:00:00.000 2022-09-30 02:00:00.000 1.0 1.471660315766502\n",
      "2022-09-30 08:10:00.000 2022-09-30 02:10:00.000 1.0 1.4587379463063055\n",
      "2022-09-30 08:20:00.000 2022-09-30 02:20:00.000 1.0 1.4490123855098018\n",
      "2022-09-30 08:30:00.000 2022-09-30 02:30:00.000 1.0 1.4423786208498095\n",
      "2022-09-30 08:40:00.000 2022-09-30 02:40:00.000 1.0 1.438766008129222\n",
      "2022-09-30 08:50:00.000 2022-09-30 02:50:00.000 1.0 1.4381364102710938\n",
      "2022-09-30 09:00:00.000 2022-09-30 03:00:00.000 1.0 1.4404832052544199\n",
      "2022-09-30 09:10:00.000 2022-09-30 03:10:00.000 1.0 1.4458311147685068\n",
      "2022-09-30 09:20:00.000 2022-09-30 03:20:00.000 1.0 1.4542368452801753\n",
      "2022-09-30 09:30:00.000 2022-09-30 03:30:00.000 1.0 1.4657905726774902\n",
      "2022-09-30 09:40:00.000 2022-09-30 03:40:00.000 1.0 1.4806183435771076\n",
      "2022-09-30 09:50:00.000 2022-09-30 03:50:00.000 1.0 1.4988855141536592\n",
      "2022-09-30 10:00:00.000 2022-09-30 04:00:00.000 1.0 1.520801405053986\n",
      "2022-09-30 10:10:00.000 2022-09-30 04:10:00.000 1.0 1.5466254239077275\n",
      "2022-09-30 10:20:00.000 2022-09-30 04:20:00.000 1.0 1.5766750023956964\n",
      "2022-09-30 10:30:00.000 2022-09-30 04:30:00.000 1.0 1.6113358230993418\n",
      "2022-09-30 10:40:00.000 2022-09-30 04:40:00.000 1.0 1.6510749874487871\n",
      "2022-09-30 10:50:00.000 2022-09-30 04:50:00.000 1.0 1.6964580224050492\n",
      "2022-09-30 11:00:00.000 2022-09-30 05:00:00.000 1.0 1.7481709740694358\n",
      "2022-09-30 11:10:00.000 2022-09-30 05:10:00.000 1.0 1.8070493439089954\n",
      "2022-09-30 11:20:00.000 2022-09-30 05:20:00.000 1.0 1.874116370960324\n",
      "2022-09-30 11:30:00.000 2022-09-30 05:30:00.000 0.5454545454545454 1.9506342854820293\n"
     ]
    }
   ],
   "source": [
    "utcoffset = -6*u.hour\n",
    "ondate = Time(f\"2022-09-29 16:00\", scale=\"utc\", location=WIRO) \n",
    "onehour = 1 * u.hour / 6\n",
    "for i in range(23 * 6):\n",
    "    time_range = Time([ondate, ondate + onehour])\n",
    "    obs_table = observability_table(global_constraints, WIRO_obs, \n",
    "                                    [XMM], time_range=time_range, \n",
    "                                    time_grid_resolution=1*u.minute)\n",
    "    if obs_table[\"fraction of time observable\"][0] > 0:\n",
    "        print(ondate, ondate + utcoffset, \n",
    "              obs_table[\"fraction of time observable\"][0],\n",
    "              XMM.transform_to(AltAz(obstime=ondate, location=WIRO)).secz\n",
    "              )\n",
    "    ondate += onehour"
   ]
  },
  {
   "cell_type": "markdown",
   "metadata": {},
   "source": [
    "## Schedule the observation for one day (October 29th as an example)"
   ]
  },
  {
   "cell_type": "code",
   "execution_count": 24,
   "metadata": {},
   "outputs": [],
   "source": [
    "import sys\n",
    "sys.path.append(\"../src/\")\n",
    "from plan_obs import schedule_obs_for_one_day"
   ]
  },
  {
   "cell_type": "code",
   "execution_count": 25,
   "metadata": {},
   "outputs": [],
   "source": [
    "slew_rate = .8*u.deg/u.second\n",
    "transitioner = Transitioner(slew_rate,\n",
    "                            {'filter':{('wide','med'): 10*u.second,\n",
    "                                       ('med','narrow'): 10*u.second,\n",
    "                                       'default': 30*u.second}})"
   ]
  },
  {
   "cell_type": "code",
   "execution_count": 26,
   "metadata": {},
   "outputs": [],
   "source": [
    "seq_scheduler = SequentialScheduler(constraints = global_constraints,\n",
    "                                    observer = WIRO_obs,\n",
    "                                    transitioner = transitioner)"
   ]
  },
  {
   "cell_type": "code",
   "execution_count": 27,
   "metadata": {},
   "outputs": [],
   "source": [
    "pro_scheduler = PriorityScheduler(constraints = global_constraints,\n",
    "                                    observer = WIRO_obs,\n",
    "                                    transitioner = transitioner)"
   ]
  },
  {
   "cell_type": "code",
   "execution_count": 28,
   "metadata": {},
   "outputs": [],
   "source": [
    "# Define the read-out time, exposure duration and number of exposures\n",
    "read_out = 20 * u.second\n",
    "# Given by the guiding star limitation\n",
    "xmm_exp = 600*u.second\n",
    "n = 6\n",
    "filters = ['wide', 'med', 'narrow']\n",
    "utcoffset = -6*u.hour\n",
    "month = 10\n",
    "day = 29\n",
    "schedule_1028 = schedule_obs_for_one_day(month, day, XMM, pro_scheduler, utcoffset, xmm_exp, n, read_out, list(enumerate(filters)))"
   ]
  },
  {
   "cell_type": "code",
   "execution_count": 29,
   "metadata": {},
   "outputs": [
    {
     "data": {
      "text/html": [
       "<div><i>Table length=3</i>\n",
       "<table id=\"table140371949708048\" class=\"table-striped table-bordered table-condensed\">\n",
       "<thead><tr><th>target</th><th>start time (UTC)</th><th>end time (UTC)</th><th>duration (minutes)</th><th>ra</th><th>dec</th><th>configuration</th></tr></thead>\n",
       "<thead><tr><th></th><th></th><th></th><th></th><th>deg</th><th>deg</th><th></th></tr></thead>\n",
       "<thead><tr><th>str4</th><th>str23</th><th>str23</th><th>float64</th><th>float64</th><th>float64</th><th>object</th></tr></thead>\n",
       "<tr><td>icrs</td><td>2022-10-30 05:15:20.025</td><td>2022-10-30 06:17:20.025</td><td>62.00000000000002</td><td>34.6</td><td>-4.95</td><td>{&apos;filter&apos;: &apos;narrow&apos;}</td></tr>\n",
       "<tr><td>icrs</td><td>2022-10-30 06:18:20.027</td><td>2022-10-30 07:20:20.027</td><td>62.00000000000002</td><td>34.6</td><td>-4.95</td><td>{&apos;filter&apos;: &apos;wide&apos;}</td></tr>\n",
       "<tr><td>icrs</td><td>2022-10-30 07:20:40.027</td><td>2022-10-30 08:22:40.027</td><td>62.00000000000002</td><td>34.6</td><td>-4.95</td><td>{&apos;filter&apos;: &apos;med&apos;}</td></tr>\n",
       "</table></div>"
      ],
      "text/plain": [
       "<Table length=3>\n",
       "target     start time (UTC)    ...   dec      configuration    \n",
       "                               ...   deg                       \n",
       " str4           str23          ... float64        object       \n",
       "------ ----------------------- ... ------- --------------------\n",
       "  icrs 2022-10-30 05:15:20.025 ...   -4.95 {'filter': 'narrow'}\n",
       "  icrs 2022-10-30 06:18:20.027 ...   -4.95   {'filter': 'wide'}\n",
       "  icrs 2022-10-30 07:20:40.027 ...   -4.95    {'filter': 'med'}"
      ]
     },
     "execution_count": 29,
     "metadata": {},
     "output_type": "execute_result"
    }
   ],
   "source": [
    "schedule_1028.to_table(False, False)"
   ]
  },
  {
   "cell_type": "code",
   "execution_count": 30,
   "metadata": {},
   "outputs": [],
   "source": [
    "from astroplan.plots import plot_airmass, plot_schedule_airmass"
   ]
  },
  {
   "cell_type": "code",
   "execution_count": 31,
   "metadata": {},
   "outputs": [
    {
     "name": "stderr",
     "output_type": "stream",
     "text": [
      "/usr/local/Caskroom/miniconda/base/envs/py39/lib/python3.9/site-packages/astroplan/plots/time_dependent.py:194: UserWarning: linestyle is redundantly defined by the 'linestyle' keyword argument and the fmt string \"-\" (-> linestyle='-'). The keyword argument will take precedence.\n",
      "  ax.plot_date(timetoplot.plot_date, masked_airmass, label=target_name, **style_kwargs)\n",
      "/usr/local/Caskroom/miniconda/base/envs/py39/lib/python3.9/site-packages/astroplan/plots/time_dependent.py:194: UserWarning: linestyle is redundantly defined by the 'linestyle' keyword argument and the fmt string \"-\" (-> linestyle='-'). The keyword argument will take precedence.\n",
      "  ax.plot_date(timetoplot.plot_date, masked_airmass, label=target_name, **style_kwargs)\n",
      "/usr/local/Caskroom/miniconda/base/envs/py39/lib/python3.9/site-packages/astroplan/plots/time_dependent.py:194: UserWarning: linestyle is redundantly defined by the 'linestyle' keyword argument and the fmt string \"-\" (-> linestyle='-'). The keyword argument will take precedence.\n",
      "  ax.plot_date(timetoplot.plot_date, masked_airmass, label=target_name, **style_kwargs)\n"
     ]
    },
    {
     "data": {
      "image/png": "[encoded data removed]",
      "text/plain": [
       "<Figure size 1008x432 with 1 Axes>"
      ]
     },
     "metadata": {
      "needs_background": "light"
     },
     "output_type": "display_data"
    }
   ],
   "source": [
    "# You will need to modify astroplan source code to run this \n",
    "# cell\n",
    "plt.figure(figsize = (14,6))\n",
    "plot_schedule_airmass(schedule_1028, show_night=True)\n",
    "plt.legend(loc = \"upper right\")\n",
    "plt.show()"
   ]
  },
  {
   "cell_type": "code",
   "execution_count": 32,
   "metadata": {},
   "outputs": [],
   "source": [
    "from astropy.time import TimezoneInfo\n",
    "utc_plus_one_hour = TimezoneInfo(utc_offset=-6*u.hour)  # UTC+1"
   ]
  },
  {
   "cell_type": "code",
   "execution_count": 33,
   "metadata": {},
   "outputs": [
    {
     "name": "stderr",
     "output_type": "stream",
     "text": [
      "/usr/local/Caskroom/miniconda/base/envs/py39/lib/python3.9/site-packages/astroplan/plots/time_dependent.py:194: UserWarning: linestyle is redundantly defined by the 'linestyle' keyword argument and the fmt string \"-\" (-> linestyle='-'). The keyword argument will take precedence.\n",
      "  ax.plot_date(timetoplot.plot_date, masked_airmass, label=target_name, **style_kwargs)\n"
     ]
    },
    {
     "data": {
      "image/png": "[encoded data removed]",
      "text/plain": [
       "<Figure size 432x288 with 1 Axes>"
      ]
     },
     "metadata": {
      "needs_background": "light"
     },
     "output_type": "display_data"
    }
   ],
   "source": [
    "from datetime import tzinfo\n",
    "\n",
    "\n",
    "full_night_start = Time(f'2022-{month:02}-{day:02} 19:00') + np.linspace(0, 10, 100) * u.hour - utcoffset\n",
    "plot_airmass(XMM, WIRO_obs, full_night_start, brightness_shading=True)\n",
    "plt.savefig(\"airmass_twilight.png\")"
   ]
  },
  {
   "cell_type": "code",
   "execution_count": null,
   "metadata": {},
   "outputs": [],
   "source": []
  }
 ],
 "metadata": {
  "kernelspec": {
   "display_name": "Python (py39)",
   "language": "python",
   "name": "python3"
  },
  "language_info": {
   "codemirror_mode": {
    "name": "ipython",
    "version": 3
   },
   "file_extension": ".py",
   "mimetype": "text/x-python",
   "name": "python",
   "nbconvert_exporter": "python",
   "pygments_lexer": "ipython3",
   "version": "3.9.12"
  },
  "vscode": {
   "interpreter": {
    "hash": "84faba2c3d73f72195a31da7dbd07f0b601f44c80958afd4e19c4d66e3eef367"
   }
  }
 },
 "nbformat": 4,
 "nbformat_minor": 4
}
