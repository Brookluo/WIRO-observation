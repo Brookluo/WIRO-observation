{
 "cells": [
  {
   "cell_type": "code",
   "execution_count": 3,
   "metadata": {},
   "outputs": [],
   "source": [
    "import numpy as np\n",
    "from astropy.coordinates import SkyCoord"
   ]
  },
  {
   "cell_type": "code",
   "execution_count": 4,
   "metadata": {},
   "outputs": [],
   "source": [
    "import astropy.units as u"
   ]
  },
  {
   "cell_type": "code",
   "execution_count": 5,
   "metadata": {},
   "outputs": [],
   "source": [
    "import matplotlib.pyplot as plt"
   ]
  },
  {
   "cell_type": "code",
   "execution_count": 4,
   "metadata": {},
   "outputs": [],
   "source": [
    "detector_x = 40 * u.arcmin\n",
    "detector_y = 40 * u.arcmin"
   ]
  },
  {
   "cell_type": "code",
   "execution_count": 5,
   "metadata": {},
   "outputs": [],
   "source": [
    "survey_field_x = 10 * u.deg\n",
    "survey_field_y = 10 * u.deg"
   ]
  },
  {
   "cell_type": "code",
   "execution_count": 56,
   "metadata": {},
   "outputs": [],
   "source": [
    "# the finest level the grid is\n",
    "# n is essentially the refinement level\n",
    "# number of grid is 2^(n-1)\n",
    "finest = 1\n",
    "# overlap for dithering\n",
    "overlap_frac = 0.85\n",
    "overlap_x = overlap_frac * detector_x\n",
    "overlap_y = overlap_frac * detector_y\n",
    "shift_x = (detector_x - overlap_x) / 2**(finest-1)\n",
    "shift_y = (detector_y - overlap_y) / 2**(finest-1)"
   ]
  },
  {
   "cell_type": "code",
   "execution_count": 57,
   "metadata": {},
   "outputs": [],
   "source": [
    "side_x = int(np.ceil((survey_field_x / shift_x).decompose()))\n",
    "side_y = int(np.ceil((survey_field_y / shift_y).decompose()))"
   ]
  },
  {
   "cell_type": "code",
   "execution_count": 58,
   "metadata": {},
   "outputs": [
    {
     "data": {
      "text/latex": [
       "$10.1 \\; \\mathrm{{}^{\\circ}}$"
      ],
      "text/plain": [
       "<Quantity 10.1 deg>"
      ]
     },
     "execution_count": 58,
     "metadata": {},
     "output_type": "execute_result"
    }
   ],
   "source": [
    "(shift_x * side_x).to(u.deg)"
   ]
  },
  {
   "cell_type": "code",
   "execution_count": 59,
   "metadata": {},
   "outputs": [],
   "source": [
    "adjusted_field_x = side_x * shift_x\n",
    "adjusted_field_y = side_y * shift_y\n",
    "# use symmetric padding, i.e. pad the same amount on both sides\n",
    "padding_x = adjusted_field_x - survey_field_x\n",
    "padding_y = adjusted_field_y - survey_field_y"
   ]
  },
  {
   "cell_type": "code",
   "execution_count": 60,
   "metadata": {},
   "outputs": [],
   "source": [
    "xi, yi = np.meshgrid(np.linspace(-adjusted_field_x/2, adjusted_field_x/2, side_x + 1), \n",
    "            np.linspace(-adjusted_field_y/2, adjusted_field_y/2, side_y + 1))"
   ]
  },
  {
   "cell_type": "code",
   "execution_count": 61,
   "metadata": {},
   "outputs": [
    {
     "data": {
      "text/latex": [
       "$10.1 \\; \\mathrm{{}^{\\circ}}$"
      ],
      "text/plain": [
       "<Quantity 10.1 deg>"
      ]
     },
     "execution_count": 61,
     "metadata": {},
     "output_type": "execute_result"
    }
   ],
   "source": [
    "adjusted_field_x.to(u.deg)"
   ]
  },
  {
   "cell_type": "code",
   "execution_count": 62,
   "metadata": {},
   "outputs": [
    {
     "data": {
      "text/latex": [
       "$10 \\; \\mathrm{{}^{\\circ}}$"
      ],
      "text/plain": [
       "<Quantity 10. deg>"
      ]
     },
     "execution_count": 62,
     "metadata": {},
     "output_type": "execute_result"
    }
   ],
   "source": [
    "survey_field_x"
   ]
  },
  {
   "cell_type": "code",
   "execution_count": 63,
   "metadata": {},
   "outputs": [],
   "source": [
    "# symmetric padding\n",
    "xi -= padding_x/2\n",
    "yi -= padding_y/2"
   ]
  },
  {
   "cell_type": "code",
   "execution_count": 64,
   "metadata": {},
   "outputs": [
    {
     "data": {
      "text/plain": [
       "[<matplotlib.lines.Line2D at 0x7fd943762cd0>]"
      ]
     },
     "execution_count": 64,
     "metadata": {},
     "output_type": "execute_result"
    },
    {
     "data": {
      "image/png": "[encoded data removed]",
      "text/plain": [
       "<Figure size 432x288 with 1 Axes>"
      ]
     },
     "metadata": {
      "needs_background": "light"
     },
     "output_type": "display_data"
    }
   ],
   "source": [
    "plt.plot(xi[0, :], yi[0, :], 'o')"
   ]
  },
  {
   "cell_type": "code",
   "execution_count": 65,
   "metadata": {},
   "outputs": [],
   "source": [
    "# need to add the circular rejection\n",
    "radius = 5*u.deg\n",
    "# add a 5% \n",
    "in_circle = np.sqrt(xi**2 + yi**2) < radius*1.1"
   ]
  },
  {
   "cell_type": "code",
   "execution_count": 66,
   "metadata": {},
   "outputs": [
    {
     "data": {
      "image/png": "[encoded data removed]",
      "text/plain": [
       "<Figure size 720x720 with 1 Axes>"
      ]
     },
     "metadata": {
      "needs_background": "light"
     },
     "output_type": "display_data"
    }
   ],
   "source": [
    "plt.figure(figsize=(10, 10))\n",
    "plt.scatter(xi, yi, s=1)\n",
    "plt.scatter(xi[in_circle], yi[in_circle], c='r', s=1)\n",
    "plt.gca().set_aspect('equal')"
   ]
  },
  {
   "cell_type": "code",
   "execution_count": 52,
   "metadata": {},
   "outputs": [],
   "source": [
    "center_x = 35.41 * u.deg\n",
    "center_y=-4.85 * u.deg"
   ]
  },
  {
   "cell_type": "code",
   "execution_count": 53,
   "metadata": {},
   "outputs": [],
   "source": [
    "ra = xi + center_x\n",
    "dec = yi + center_y"
   ]
  },
  {
   "cell_type": "code",
   "execution_count": 54,
   "metadata": {},
   "outputs": [
    {
     "data": {
      "text/latex": [
       "$[[30.21,~30.81,~31.41,~\\dots,~39.21,~39.81,~40.41],~\n",
       " [30.21,~30.81,~31.41,~\\dots,~39.21,~39.81,~40.41],~\n",
       " [30.21,~30.81,~31.41,~\\dots,~39.21,~39.81,~40.41],~\n",
       " \\dots,~\n",
       " [30.21,~30.81,~31.41,~\\dots,~39.21,~39.81,~40.41],~\n",
       " [30.21,~30.81,~31.41,~\\dots,~39.21,~39.81,~40.41],~\n",
       " [30.21,~30.81,~31.41,~\\dots,~39.21,~39.81,~40.41]] \\; \\mathrm{{}^{\\circ}}$"
      ],
      "text/plain": [
       "<Quantity [[30.21, 30.81, 31.41, 32.01, 32.61, 33.21, 33.81, 34.41, 35.01,\n",
       "            35.61, 36.21, 36.81, 37.41, 38.01, 38.61, 39.21, 39.81, 40.41],\n",
       "           [30.21, 30.81, 31.41, 32.01, 32.61, 33.21, 33.81, 34.41, 35.01,\n",
       "            35.61, 36.21, 36.81, 37.41, 38.01, 38.61, 39.21, 39.81, 40.41],\n",
       "           [30.21, 30.81, 31.41, 32.01, 32.61, 33.21, 33.81, 34.41, 35.01,\n",
       "            35.61, 36.21, 36.81, 37.41, 38.01, 38.61, 39.21, 39.81, 40.41],\n",
       "           [30.21, 30.81, 31.41, 32.01, 32.61, 33.21, 33.81, 34.41, 35.01,\n",
       "            35.61, 36.21, 36.81, 37.41, 38.01, 38.61, 39.21, 39.81, 40.41],\n",
       "           [30.21, 30.81, 31.41, 32.01, 32.61, 33.21, 33.81, 34.41, 35.01,\n",
       "            35.61, 36.21, 36.81, 37.41, 38.01, 38.61, 39.21, 39.81, 40.41],\n",
       "           [30.21, 30.81, 31.41, 32.01, 32.61, 33.21, 33.81, 34.41, 35.01,\n",
       "            35.61, 36.21, 36.81, 37.41, 38.01, 38.61, 39.21, 39.81, 40.41],\n",
       "           [30.21, 30.81, 31.41, 32.01, 32.61, 33.21, 33.81, 34.41, 35.01,\n",
       "            35.61, 36.21, 36.81, 37.41, 38.01, 38.61, 39.21, 39.81, 40.41],\n",
       "           [30.21, 30.81, 31.41, 32.01, 32.61, 33.21, 33.81, 34.41, 35.01,\n",
       "            35.61, 36.21, 36.81, 37.41, 38.01, 38.61, 39.21, 39.81, 40.41],\n",
       "           [30.21, 30.81, 31.41, 32.01, 32.61, 33.21, 33.81, 34.41, 35.01,\n",
       "            35.61, 36.21, 36.81, 37.41, 38.01, 38.61, 39.21, 39.81, 40.41],\n",
       "           [30.21, 30.81, 31.41, 32.01, 32.61, 33.21, 33.81, 34.41, 35.01,\n",
       "            35.61, 36.21, 36.81, 37.41, 38.01, 38.61, 39.21, 39.81, 40.41],\n",
       "           [30.21, 30.81, 31.41, 32.01, 32.61, 33.21, 33.81, 34.41, 35.01,\n",
       "            35.61, 36.21, 36.81, 37.41, 38.01, 38.61, 39.21, 39.81, 40.41],\n",
       "           [30.21, 30.81, 31.41, 32.01, 32.61, 33.21, 33.81, 34.41, 35.01,\n",
       "            35.61, 36.21, 36.81, 37.41, 38.01, 38.61, 39.21, 39.81, 40.41],\n",
       "           [30.21, 30.81, 31.41, 32.01, 32.61, 33.21, 33.81, 34.41, 35.01,\n",
       "            35.61, 36.21, 36.81, 37.41, 38.01, 38.61, 39.21, 39.81, 40.41],\n",
       "           [30.21, 30.81, 31.41, 32.01, 32.61, 33.21, 33.81, 34.41, 35.01,\n",
       "            35.61, 36.21, 36.81, 37.41, 38.01, 38.61, 39.21, 39.81, 40.41],\n",
       "           [30.21, 30.81, 31.41, 32.01, 32.61, 33.21, 33.81, 34.41, 35.01,\n",
       "            35.61, 36.21, 36.81, 37.41, 38.01, 38.61, 39.21, 39.81, 40.41],\n",
       "           [30.21, 30.81, 31.41, 32.01, 32.61, 33.21, 33.81, 34.41, 35.01,\n",
       "            35.61, 36.21, 36.81, 37.41, 38.01, 38.61, 39.21, 39.81, 40.41],\n",
       "           [30.21, 30.81, 31.41, 32.01, 32.61, 33.21, 33.81, 34.41, 35.01,\n",
       "            35.61, 36.21, 36.81, 37.41, 38.01, 38.61, 39.21, 39.81, 40.41],\n",
       "           [30.21, 30.81, 31.41, 32.01, 32.61, 33.21, 33.81, 34.41, 35.01,\n",
       "            35.61, 36.21, 36.81, 37.41, 38.01, 38.61, 39.21, 39.81, 40.41]] deg>"
      ]
     },
     "execution_count": 54,
     "metadata": {},
     "output_type": "execute_result"
    }
   ],
   "source": [
    "ra.to(u.deg)"
   ]
  },
  {
   "cell_type": "code",
   "execution_count": 55,
   "metadata": {},
   "outputs": [
    {
     "data": {
      "image/png": "[encoded data removed]",
      "text/plain": [
       "<Figure size 720x720 with 1 Axes>"
      ]
     },
     "metadata": {
      "needs_background": "light"
     },
     "output_type": "display_data"
    }
   ],
   "source": [
    "plt.figure(figsize=(10, 10))\n",
    "plt.scatter(ra.to(u.deg), dec.to(u.deg), s=1)\n",
    "plt.scatter(ra[in_circle].to(u.deg), dec[in_circle].to(u.deg), c='r', s=1)\n",
    "plt.gca().set_aspect('equal')"
   ]
  },
  {
   "cell_type": "code",
   "execution_count": 79,
   "metadata": {},
   "outputs": [],
   "source": [
    "def generate_dithering_path(field_FOV_x, field_FOV_y, detector_FOV_x, detector_FOV_y,\n",
    "                            finest_level, overlap_frac, center_ra, center_dec, \n",
    "                            radius=None):\n",
    "    # survey_field_x, survey_field_y = field_FOV_ra, field_FOV_dec\n",
    "    # detector_FOV_x, detector_y = detector_FOV_ra, detector_FOV_dec\n",
    "    # overlap for dithering\n",
    "    overlap_x = overlap_frac * detector_FOV_x\n",
    "    overlap_y = overlap_frac * detector_FOV_y\n",
    "    # the finest level the grid is\n",
    "    # n is essentially the refinement level\n",
    "    # number of grid is 2^(n-1)\n",
    "    shift_x = (detector_FOV_x - overlap_x) / 2**(finest_level-1)\n",
    "    shift_y = (detector_FOV_y - overlap_y) / 2**(finest_level-1)\n",
    "    num_shift_x = int(np.ceil((field_FOV_x / shift_x).decompose()))\n",
    "    num_shift_y = int(np.ceil((field_FOV_y / shift_y).decompose()))\n",
    "    # print(num_shift_x, num_shift_y)\n",
    "    adjusted_field_x = num_shift_x * shift_x\n",
    "    adjusted_field_y = num_shift_y * shift_y\n",
    "    # use symmetric padding, i.e. pad the same amount on both sides\n",
    "    padding_x = adjusted_field_x - field_FOV_x\n",
    "    padding_y = adjusted_field_y - field_FOV_y\n",
    "    xi, yi = np.meshgrid(np.linspace(-adjusted_field_x/2, adjusted_field_x/2, num_shift_x), \n",
    "                        np.linspace(-adjusted_field_y/2, adjusted_field_y/2, num_shift_y))\n",
    "    # symmetric padding\n",
    "    xi -= padding_x/2\n",
    "    yi -= padding_y/2\n",
    "    if radius:\n",
    "        # need to add the circular rejection\n",
    "        # add a 5% oversize to compensate the loss of image on the side\n",
    "        in_circle = np.sqrt(xi**2 + yi**2) < radius*1.05\n",
    "        xi = xi[in_circle]\n",
    "        yi = yi[in_circle]\n",
    "        # print(in_circle)\n",
    "    ra = xi.ravel() + center_ra\n",
    "    dec = yi.ravel() + center_dec\n",
    "    return ra, dec"
   ]
  },
  {
   "cell_type": "code",
   "execution_count": 99,
   "metadata": {},
   "outputs": [
    {
     "name": "stderr",
     "output_type": "stream",
     "text": [
      "WARNING: AstropyDeprecationWarning: The truth value of a Quantity is ambiguous. In the future this will raise a ValueError. [astropy.units.quantity]\n"
     ]
    },
    {
     "data": {
      "image/png": "[encoded data removed]",
      "text/plain": [
       "<Figure size 720x720 with 1 Axes>"
      ]
     },
     "metadata": {
      "needs_background": "light"
     },
     "output_type": "display_data"
    }
   ],
   "source": [
    "# ! NB this is a 15% dithering pattern\n",
    "ra, dec = generate_dithering_path(10*u.deg, 10*u.deg, 40*u.arcmin, 40*u.arcmin, \n",
    "                                  1, 0.15, 35.41*u.deg, -4.85*u.deg, radius=1*u.deg)\n",
    "plt.figure(figsize=(10, 10))\n",
    "plt.scatter(ra.to(u.deg), dec.to(u.deg), s=1)\n",
    "# plt.scatter(ra[in_circle].to(u.deg), dec[in_circle].to(u.deg), c='r', s=1)\n",
    "plt.gca().set_aspect('equal')"
   ]
  },
  {
   "cell_type": "code",
   "execution_count": 100,
   "metadata": {},
   "outputs": [
    {
     "data": {
      "image/png": "[encoded data removed]",
      "text/plain": [
       "<Figure size 720x720 with 1 Axes>"
      ]
     },
     "metadata": {
      "needs_background": "light"
     },
     "output_type": "display_data"
    }
   ],
   "source": [
    "figure = plt.figure(figsize=(10, 10))\n",
    "ax = figure.gca()\n",
    "# plt.scatter(ra.to(u.deg), dec.to(u.deg), s=1)\n",
    "# plt.scatter(ra[in_circle].to(u.deg), dec[in_circle].to(u.deg), c='r', s=1)\n",
    "for i in range(len(ra)):\n",
    "    # for j in range(len(dec)):\n",
    "    circle = plt.Circle((ra.to(u.deg).value[i], dec.to(u.deg).value[i]), 40/60/2, fill=False, color='r')\n",
    "    ax.add_patch(circle)\n",
    "ax.set_aspect('equal')\n",
    "plt.xlim([33, 38])\n",
    "plt.ylim([-3, -7])\n",
    "plt.savefig(\"0.15_percent_dithering.png\")"
   ]
  },
  {
   "cell_type": "code",
   "execution_count": null,
   "metadata": {},
   "outputs": [],
   "source": [
    "coord = SkyCoord(ra=\"320.03661926098\", dec=\"\n",
    "                 \", frame='icrs')"
   ]
  }
 ],
 "metadata": {
  "kernelspec": {
   "display_name": "Python 3.9.12 ('py39')",
   "language": "python",
   "name": "python3"
  },
  "language_info": {
   "codemirror_mode": {
    "name": "ipython",
    "version": 3
   },
   "file_extension": ".py",
   "mimetype": "text/x-python",
   "name": "python",
   "nbconvert_exporter": "python",
   "pygments_lexer": "ipython3",
   "version": "3.9.12"
  },
  "orig_nbformat": 4,
  "vscode": {
   "interpreter": {
    "hash": "84faba2c3d73f72195a31da7dbd07f0b601f44c80958afd4e19c4d66e3eef367"
   }
  }
 },
 "nbformat": 4,
 "nbformat_minor": 2
}
