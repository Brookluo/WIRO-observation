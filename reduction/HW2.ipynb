{
 "cells": [
  {
   "cell_type": "code",
   "execution_count": 2,
   "id": "50ddab4d",
   "metadata": {},
   "outputs": [],
   "source": [
    "import numpy as np\n",
    "import astropy.constants as const\n",
    "import astropy.units as u"
   ]
  },
  {
   "cell_type": "code",
   "execution_count": 46,
   "id": "a67fab77",
   "metadata": {},
   "outputs": [
    {
     "data": {
      "text/plain": [
       "1.924604239334586"
      ]
     },
     "execution_count": 46,
     "metadata": {},
     "output_type": "execute_result"
    }
   ],
   "source": [
    "1.09/0.3727 - 1"
   ]
  },
  {
   "cell_type": "code",
   "execution_count": 17,
   "id": "ebd104f4",
   "metadata": {},
   "outputs": [
    {
     "data": {
      "text/plain": [
       "1.718875"
      ]
     },
     "execution_count": 17,
     "metadata": {},
     "output_type": "execute_result"
    }
   ],
   "source": [
    "30e3/(1e6) * 206265 / 3600"
   ]
  },
  {
   "cell_type": "code",
   "execution_count": 13,
   "id": "2dac3ae5",
   "metadata": {},
   "outputs": [
    {
     "data": {
      "text/plain": [
       "30000.0"
      ]
     },
     "execution_count": 13,
     "metadata": {},
     "output_type": "execute_result"
    }
   ],
   "source": [
    "30e3"
   ]
  },
  {
   "cell_type": "code",
   "execution_count": 18,
   "id": "94d93666",
   "metadata": {},
   "outputs": [
    {
     "data": {
      "text/plain": [
       "3.240779289444365e-14"
      ]
     },
     "execution_count": 18,
     "metadata": {},
     "output_type": "execute_result"
    }
   ],
   "source": [
    "u.km.to(u.pc)"
   ]
  },
  {
   "cell_type": "code",
   "execution_count": 20,
   "id": "dbc8916f",
   "metadata": {},
   "outputs": [
    {
     "data": {
      "text/plain": [
       "31557600.0"
      ]
     },
     "execution_count": 20,
     "metadata": {},
     "output_type": "execute_result"
    }
   ],
   "source": [
    "u.yr.to(u.s)"
   ]
  },
  {
   "cell_type": "code",
   "execution_count": 24,
   "id": "65e1c7cc",
   "metadata": {},
   "outputs": [],
   "source": [
    "mu = 500 * u.km/u.s / (1e6*u.pc) * u.rad"
   ]
  },
  {
   "cell_type": "code",
   "execution_count": 25,
   "id": "4f5a7a23",
   "metadata": {},
   "outputs": [
    {
     "data": {
      "text/latex": [
       "$0.00010547476 \\; \\mathrm{\\frac{{}^{\\prime\\prime}}{yr}}$"
      ],
      "text/plain": [
       "<Quantity 0.00010547 arcsec / yr>"
      ]
     },
     "execution_count": 25,
     "metadata": {},
     "output_type": "execute_result"
    }
   ],
   "source": [
    "mu.to(u.arcsec / u.yr)"
   ]
  },
  {
   "cell_type": "code",
   "execution_count": 28,
   "id": "fe1b66b7",
   "metadata": {},
   "outputs": [
    {
     "data": {
      "text/plain": [
       "2.0304347826086957"
      ]
     },
     "execution_count": 28,
     "metadata": {},
     "output_type": "execute_result"
    }
   ],
   "source": [
    "4.670 / 2.3"
   ]
  },
  {
   "cell_type": "code",
   "execution_count": 37,
   "id": "5e2e4954",
   "metadata": {},
   "outputs": [
    {
     "data": {
      "text/plain": [
       "29.088793542287835"
      ]
     },
     "execution_count": 37,
     "metadata": {},
     "output_type": "execute_result"
    }
   ],
   "source": [
    "0.25 / (206265 / 24000)*1e3"
   ]
  },
  {
   "cell_type": "code",
   "execution_count": 31,
   "id": "f0d54930",
   "metadata": {},
   "outputs": [
    {
     "data": {
      "text/plain": [
       "512.0"
      ]
     },
     "execution_count": 31,
     "metadata": {},
     "output_type": "execute_result"
    }
   ],
   "source": [
    "0.25*2048"
   ]
  },
  {
   "cell_type": "code",
   "execution_count": 32,
   "id": "1e929366",
   "metadata": {},
   "outputs": [
    {
     "data": {
      "text/plain": [
       "96"
      ]
     },
     "execution_count": 32,
     "metadata": {},
     "output_type": "execute_result"
    }
   ],
   "source": [
    "12*8"
   ]
  },
  {
   "cell_type": "code",
   "execution_count": 38,
   "id": "7d20b62f",
   "metadata": {},
   "outputs": [
    {
     "data": {
      "text/plain": [
       "0.11635517416915134"
      ]
     },
     "execution_count": 38,
     "metadata": {},
     "output_type": "execute_result"
    }
   ],
   "source": [
    "0.25/ (206265/ 96000)"
   ]
  },
  {
   "cell_type": "code",
   "execution_count": 43,
   "id": "ebd8830d",
   "metadata": {},
   "outputs": [
    {
     "data": {
      "text/plain": [
       "0.012837224705172217"
      ]
     },
     "execution_count": 43,
     "metadata": {},
     "output_type": "execute_result"
    }
   ],
   "source": [
    "np.log10(1.03) "
   ]
  },
  {
   "cell_type": "code",
   "execution_count": 42,
   "id": "08eda989",
   "metadata": {},
   "outputs": [
    {
     "data": {
      "text/plain": [
       "-0.01322826573375516"
      ]
     },
     "execution_count": 42,
     "metadata": {},
     "output_type": "execute_result"
    }
   ],
   "source": [
    "np.log10(0.97) "
   ]
  },
  {
   "cell_type": "code",
   "execution_count": 44,
   "id": "ca19268a",
   "metadata": {},
   "outputs": [],
   "source": [
    "star = 9.5 * u.mag"
   ]
  },
  {
   "cell_type": "code",
   "execution_count": 48,
   "id": "c61d559e",
   "metadata": {},
   "outputs": [],
   "source": [
    "fzp = 632e-11 * u.erg/u.s/u.cm**2*u.angstrom**-1"
   ]
  },
  {
   "cell_type": "code",
   "execution_count": 74,
   "id": "4834846d",
   "metadata": {},
   "outputs": [
    {
     "data": {
      "text/latex": [
       "$0.64098017 \\; \\mathrm{Jy}$"
      ],
      "text/plain": [
       "<Quantity 0.64098017 Jy>"
      ]
     },
     "execution_count": 74,
     "metadata": {},
     "output_type": "execute_result"
    }
   ],
   "source": [
    "((fzp*10**(-9.5/2.5))*lam**2/const.c).to(u.Jy)"
   ]
  },
  {
   "cell_type": "code",
   "execution_count": 80,
   "id": "8b81f8d1",
   "metadata": {},
   "outputs": [],
   "source": [
    "E = const.h*const.c/(5500*u.angstrom)"
   ]
  },
  {
   "cell_type": "code",
   "execution_count": 82,
   "id": "f16682b1",
   "metadata": {},
   "outputs": [
    {
     "data": {
      "text/latex": [
       "$3.6117197 \\times 10^{-12} \\; \\mathrm{erg}$"
      ],
      "text/plain": [
       "<Quantity 3.61171974e-12 erg>"
      ]
     },
     "execution_count": 82,
     "metadata": {},
     "output_type": "execute_result"
    }
   ],
   "source": [
    "(E.to(u.erg))"
   ]
  },
  {
   "cell_type": "code",
   "execution_count": 56,
   "id": "fa910441",
   "metadata": {},
   "outputs": [
    {
     "data": {
      "text/plain": [
       "10000000.0"
      ]
     },
     "execution_count": 56,
     "metadata": {},
     "output_type": "execute_result"
    }
   ],
   "source": [
    "u.J.to(u.erg)"
   ]
  },
  {
   "cell_type": "code",
   "execution_count": 61,
   "id": "82b6a198",
   "metadata": {},
   "outputs": [
    {
     "data": {
      "text/plain": [
       "0.22085867197709563"
      ]
     },
     "execution_count": 61,
     "metadata": {},
     "output_type": "execute_result"
    }
   ],
   "source": [
    "1.0016524976354242e-12 / 4.53526451403865e-12"
   ]
  },
  {
   "cell_type": "code",
   "execution_count": 64,
   "id": "b2cf6cbc",
   "metadata": {},
   "outputs": [
    {
     "data": {
      "text/plain": [
       "0.22071222598213475"
      ]
     },
     "execution_count": 64,
     "metadata": {},
     "output_type": "execute_result"
    }
   ],
   "source": [
    "1392.6*10**(-9.5/2.5)"
   ]
  },
  {
   "cell_type": "code",
   "execution_count": 65,
   "id": "420cfa7f",
   "metadata": {},
   "outputs": [],
   "source": [
    "lam = 0.438*u.micron"
   ]
  },
  {
   "cell_type": "code",
   "execution_count": 69,
   "id": "5121d911",
   "metadata": {},
   "outputs": [
    {
     "data": {
      "text/plain": [
       "6.3992270279194264e-12"
      ]
     },
     "execution_count": 69,
     "metadata": {},
     "output_type": "execute_result"
    }
   ],
   "source": [
    "(lam**2/const.c).to(u.angstrom/u.Hz).value"
   ]
  },
  {
   "cell_type": "code",
   "execution_count": 67,
   "id": "cd17b337",
   "metadata": {},
   "outputs": [
    {
     "data": {
      "text/plain": [
       "1.0000000000000002e-10"
      ]
     },
     "execution_count": 67,
     "metadata": {},
     "output_type": "execute_result"
    }
   ],
   "source": [
    "u.angstrom.to(u.m)"
   ]
  },
  {
   "cell_type": "code",
   "execution_count": 70,
   "id": "ed6ff30b",
   "metadata": {},
   "outputs": [
    {
     "data": {
      "text/latex": [
       "$6.32 \\times 10^{-9} \\; \\mathrm{\\frac{erg}{\\mathring{A}\\,s\\,cm^{2}}}$"
      ],
      "text/plain": [
       "<Quantity 6.32e-09 erg / (Angstrom cm2 s)>"
      ]
     },
     "execution_count": 70,
     "metadata": {},
     "output_type": "execute_result"
    }
   ],
   "source": [
    "fzp"
   ]
  },
  {
   "cell_type": "code",
   "execution_count": 90,
   "id": "07e2e2b2",
   "metadata": {},
   "outputs": [
    {
     "data": {
      "text/latex": [
       "$9.962797 \\times 10^{-6} \\; \\mathrm{\\frac{Hz}{\\mathring{A}}}$"
      ],
      "text/plain": [
       "<Quantity 9.96279699e-06 Hz / Angstrom>"
      ]
     },
     "execution_count": 90,
     "metadata": {},
     "output_type": "execute_result"
    }
   ],
   "source": [
    "(10**(-(20-8.9)/2.5)*1e-23 / E.to(u.erg).value * \n",
    "        const.c/(5500*u.angstrom)**2).to(u.Hz/u.angstrom)"
   ]
  },
  {
   "cell_type": "code",
   "execution_count": 96,
   "id": "38f0b721",
   "metadata": {},
   "outputs": [
    {
     "data": {
      "text/plain": [
       "1e-23"
      ]
     },
     "execution_count": 96,
     "metadata": {},
     "output_type": "execute_result"
    }
   ],
   "source": [
    "u.Jy.to(u.erg/u.s/u.cm**2/u.Hz)"
   ]
  },
  {
   "cell_type": "code",
   "execution_count": 91,
   "id": "d8554cdb",
   "metadata": {},
   "outputs": [
    {
     "data": {
      "text/plain": [
       "42545170296.1522"
      ]
     },
     "execution_count": 91,
     "metadata": {},
     "output_type": "execute_result"
    }
   ],
   "source": [
    "u.sr.to(u.arcsec**2)"
   ]
  },
  {
   "cell_type": "code",
   "execution_count": 92,
   "id": "857d241d",
   "metadata": {},
   "outputs": [
    {
     "data": {
      "text/latex": [
       "$\\mathrm{sr}$"
      ],
      "text/plain": [
       "Unit(\"sr\")"
      ]
     },
     "execution_count": 92,
     "metadata": {},
     "output_type": "execute_result"
    }
   ],
   "source": [
    "u.steradian"
   ]
  },
  {
   "cell_type": "code",
   "execution_count": 94,
   "id": "9017d8c4",
   "metadata": {},
   "outputs": [
    {
     "data": {
      "text/plain": [
       "117974.04252395069"
      ]
     },
     "execution_count": 94,
     "metadata": {},
     "output_type": "execute_result"
    }
   ],
   "source": [
    "2*np.arcsin(np.sqrt(1/(4*np.pi))) * 206265"
   ]
  },
  {
   "cell_type": "code",
   "execution_count": 95,
   "id": "787528ff",
   "metadata": {},
   "outputs": [
    {
     "data": {
      "text/plain": [
       "42545250225"
      ]
     },
     "execution_count": 95,
     "metadata": {},
     "output_type": "execute_result"
    }
   ],
   "source": [
    "206265**2"
   ]
  },
  {
   "cell_type": "code",
   "execution_count": 105,
   "id": "6f98b0e8",
   "metadata": {},
   "outputs": [
    {
     "data": {
      "text/latex": [
       "$2.3294009 \\times 10^{-17} \\; \\mathrm{\\frac{erg}{\\mathring{A}\\,s\\,cm^{2}}}$"
      ],
      "text/plain": [
       "<Quantity 2.32940091e-17 erg / (Angstrom cm2 s)>"
      ]
     },
     "execution_count": 105,
     "metadata": {},
     "output_type": "execute_result"
    }
   ],
   "source": [
    "(1e6/(206265**2)*u.Jy).to(u.erg/u.s/u.cm**2/u.Hz) \n",
    "* (const.c/(5500*u.angstrom)**2).to(u.Hz/u.angstrom)"
   ]
  },
  {
   "cell_type": "code",
   "execution_count": 102,
   "id": "e2da4fb6",
   "metadata": {},
   "outputs": [
    {
     "data": {
      "text/latex": [
       "$9.9104945 \\times 10^{10} \\; \\mathrm{\\frac{Hz}{\\mathring{A}}}$"
      ],
      "text/plain": [
       "<Quantity 9.91049448e+10 Hz / Angstrom>"
      ]
     },
     "execution_count": 102,
     "metadata": {},
     "output_type": "execute_result"
    }
   ],
   "source": [
    "(const.c/(5500*u.angstrom)**2).to(u.Hz/u.angstrom)"
   ]
  },
  {
   "cell_type": "code",
   "execution_count": 110,
   "id": "4e5357ed",
   "metadata": {},
   "outputs": [
    {
     "data": {
      "text/plain": [
       "20.473687392008326"
      ]
     },
     "execution_count": 110,
     "metadata": {},
     "output_type": "execute_result"
    }
   ],
   "source": [
    "-2.5 * np.log10((1e6/(206265**2))*1e-23 / (3.636e-20))"
   ]
  },
  {
   "cell_type": "code",
   "execution_count": 111,
   "id": "08a30c87",
   "metadata": {},
   "outputs": [],
   "source": [
    "I = 1*u.MJy / u.steradian"
   ]
  },
  {
   "cell_type": "code",
   "execution_count": 114,
   "id": "159247f2",
   "metadata": {},
   "outputs": [
    {
     "data": {
      "text/latex": [
       "$2.3504431 \\times 10^{-28} \\; \\mathrm{\\frac{erg}{Hz\\,s\\,arcsec^{2}\\,cm^{2}}}$"
      ],
      "text/plain": [
       "<Quantity 2.35044305e-28 erg / (arcsec2 cm2 Hz s)>"
      ]
     },
     "execution_count": 114,
     "metadata": {},
     "output_type": "execute_result"
    }
   ],
   "source": [
    "I.to(u.erg/u.s/u.cm**2/u.Hz / u.arcsec**2)"
   ]
  },
  {
   "cell_type": "code",
   "execution_count": 115,
   "id": "abe68cf3",
   "metadata": {},
   "outputs": [],
   "source": [
    "I_lam = I * const.c/(5500*u.angstrom)**2"
   ]
  },
  {
   "cell_type": "code",
   "execution_count": 117,
   "id": "7a20afba",
   "metadata": {},
   "outputs": [
    {
     "data": {
      "text/latex": [
       "$2.3294053 \\times 10^{-17} \\; \\mathrm{\\frac{erg}{\\mathring{A}\\,s\\,arcsec^{2}\\,cm^{2}}}$"
      ],
      "text/plain": [
       "<Quantity 2.32940529e-17 erg / (Angstrom arcsec2 cm2 s)>"
      ]
     },
     "execution_count": 117,
     "metadata": {},
     "output_type": "execute_result"
    }
   ],
   "source": [
    "I_lam.to(u.erg/u.s/u.cm**2/u.angstrom / u.arcsec**2)"
   ]
  },
  {
   "cell_type": "code",
   "execution_count": 145,
   "id": "f7805759",
   "metadata": {},
   "outputs": [],
   "source": [
    "E = const.c*const.h / (5450*u.angstrom)"
   ]
  },
  {
   "cell_type": "code",
   "execution_count": 146,
   "id": "c9682e58",
   "metadata": {
    "scrolled": true
   },
   "outputs": [
    {
     "data": {
      "text/latex": [
       "$3.6448548 \\times 10^{-12} \\; \\mathrm{erg}$"
      ],
      "text/plain": [
       "<Quantity 3.64485478e-12 erg>"
      ]
     },
     "execution_count": 146,
     "metadata": {},
     "output_type": "execute_result"
    }
   ],
   "source": [
    "E.to(u.erg)"
   ]
  },
  {
   "cell_type": "code",
   "execution_count": 125,
   "id": "1e3b7d58",
   "metadata": {},
   "outputs": [],
   "source": [
    "phi = I_lam.to(u.erg/u.s/u.cm**2/u.angstrom / u.arcsec**2).value / E.to(u.erg).value"
   ]
  },
  {
   "cell_type": "code",
   "execution_count": 126,
   "id": "19eb8b0b",
   "metadata": {},
   "outputs": [
    {
     "data": {
      "text/plain": [
       "227.7694608771352"
      ]
     },
     "execution_count": 126,
     "metadata": {},
     "output_type": "execute_result"
    }
   ],
   "source": [
    "phi * (2.3/2)**2*np.pi*(u.m.to(u.cm))**2 * 1 * 850"
   ]
  },
  {
   "cell_type": "code",
   "execution_count": 127,
   "id": "0c9c9061",
   "metadata": {},
   "outputs": [],
   "source": [
    "fzp = 363.1e-11 * u.erg/u.s/u.cm**2*u.angstrom**-1"
   ]
  },
  {
   "cell_type": "code",
   "execution_count": 134,
   "id": "41e0339a",
   "metadata": {},
   "outputs": [
    {
     "data": {
      "text/latex": [
       "$2.5120383 \\times 10^{-9} \\; \\mathrm{\\frac{erg}{\\mathring{A}\\,s\\,cm^{2}}}$"
      ],
      "text/plain": [
       "<Quantity 2.51203826e-09 erg / (Angstrom cm2 s)>"
      ]
     },
     "execution_count": 134,
     "metadata": {},
     "output_type": "execute_result"
    }
   ],
   "source": [
    "fzp*10**(-0.4/2.5)"
   ]
  },
  {
   "cell_type": "code",
   "execution_count": 129,
   "id": "f20ae7f2",
   "metadata": {},
   "outputs": [
    {
     "data": {
      "text/plain": [
       "3.085677581491367e+18"
      ]
     },
     "execution_count": 129,
     "metadata": {},
     "output_type": "execute_result"
    }
   ],
   "source": [
    "u.pc.to(u.cm)"
   ]
  },
  {
   "cell_type": "code",
   "execution_count": 132,
   "id": "644fb117",
   "metadata": {},
   "outputs": [
    {
     "data": {
      "text/plain": [
       "8.357743635931361e-15"
      ]
     },
     "execution_count": 132,
     "metadata": {},
     "output_type": "execute_result"
    }
   ],
   "source": [
    "1e38 * (u.cm.to(u.pc))**2 / (4*np.pi*(10e6)**2)"
   ]
  },
  {
   "cell_type": "code",
   "execution_count": 135,
   "id": "d2734cf9",
   "metadata": {},
   "outputs": [],
   "source": [
    "L = 1e38 * u.erg /u.second / u.angstrom"
   ]
  },
  {
   "cell_type": "code",
   "execution_count": 137,
   "id": "64f97e97",
   "metadata": {},
   "outputs": [],
   "source": [
    "f = L / (4*np.pi*(10*u.Mpc)**2)"
   ]
  },
  {
   "cell_type": "code",
   "execution_count": 148,
   "id": "9e6ee38d",
   "metadata": {},
   "outputs": [],
   "source": [
    "phi = f / 2 * 10**(-0.4/2.5) * (2.3/2 * u.m)**2*np.pi*850*u.angstrom/E"
   ]
  },
  {
   "cell_type": "code",
   "execution_count": 149,
   "id": "c9547285",
   "metadata": {},
   "outputs": [
    {
     "data": {
      "text/latex": [
       "$28011.947 \\; \\mathrm{\\frac{1}{s}}$"
      ],
      "text/plain": [
       "<Quantity 28011.94718908 1 / s>"
      ]
     },
     "execution_count": 149,
     "metadata": {},
     "output_type": "execute_result"
    }
   ],
   "source": [
    "phi.decompose()"
   ]
  },
  {
   "cell_type": "code",
   "execution_count": null,
   "id": "e124555c",
   "metadata": {},
   "outputs": [],
   "source": []
  }
 ],
 "metadata": {
  "kernelspec": {
   "display_name": "Python 3 (ipykernel)",
   "language": "python",
   "name": "python3"
  },
  "language_info": {
   "codemirror_mode": {
    "name": "ipython",
    "version": 3
   },
   "file_extension": ".py",
   "mimetype": "text/x-python",
   "name": "python",
   "nbconvert_exporter": "python",
   "pygments_lexer": "ipython3",
   "version": "3.9.7"
  }
 },
 "nbformat": 4,
 "nbformat_minor": 5
}
